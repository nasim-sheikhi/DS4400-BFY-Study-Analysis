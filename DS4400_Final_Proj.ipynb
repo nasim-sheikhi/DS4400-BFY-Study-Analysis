{
 "cells": [
  {
   "cell_type": "markdown",
   "metadata": {
    "id": "3U_8rUeggKSL"
   },
   "source": [
    "# **Import Libraries**"
   ]
  },
  {
   "cell_type": "code",
   "execution_count": 1,
   "metadata": {
    "id": "Y2oWn3bzftbq"
   },
   "outputs": [],
   "source": [
    "import pandas as pd\n",
    "import numpy as np\n",
    "import matplotlib.pyplot as plt\n",
    "import seaborn as sns\n",
    "from scipy import stats\n",
    "from sklearn.preprocessing import normalize\n",
    "from sklearn.impute import SimpleImputer\n",
    "import warnings\n",
    "warnings.filterwarnings(\"ignore\")"
   ]
  },
  {
   "cell_type": "markdown",
   "metadata": {
    "id": "yep5YQz-f_H1"
   },
   "source": [
    "# **Dataset Cleaning**:"
   ]
  },
  {
   "cell_type": "code",
   "execution_count": 51,
   "metadata": {
    "colab": {
     "base_uri": "https://localhost:8080/",
     "height": 317
    },
    "id": "J5HgduB5ggHa",
    "outputId": "2cee7f98-eef1-4981-ea11-8e3b33282eb0"
   },
   "outputs": [
    {
     "name": "stdout",
     "output_type": "stream",
     "text": [
      "(1000, 2010)\n"
     ]
    },
    {
     "data": {
      "text/html": [
       "<div>\n",
       "<style scoped>\n",
       "    .dataframe tbody tr th:only-of-type {\n",
       "        vertical-align: middle;\n",
       "    }\n",
       "\n",
       "    .dataframe tbody tr th {\n",
       "        vertical-align: top;\n",
       "    }\n",
       "\n",
       "    .dataframe thead th {\n",
       "        text-align: right;\n",
       "    }\n",
       "</style>\n",
       "<table border=\"1\" class=\"dataframe\">\n",
       "  <thead>\n",
       "    <tr style=\"text-align: right;\">\n",
       "      <th></th>\n",
       "      <th>MSMSPROJECTIDA1</th>\n",
       "      <th>VERIFYR_S_1A1</th>\n",
       "      <th>VERIFYR_S_2A1</th>\n",
       "      <th>VERIFYR_S_3A1</th>\n",
       "      <th>VERIFYR_S_4A1</th>\n",
       "      <th>VERIFYR_S_5A1</th>\n",
       "      <th>CORRGENDERCHILDA1</th>\n",
       "      <th>BABYGENDERA1</th>\n",
       "      <th>CHILDWELLA1</th>\n",
       "      <th>CHILDWELL1A1</th>\n",
       "      <th>...</th>\n",
       "      <th>HHAGE1CONTRGRANDPAA1</th>\n",
       "      <th>HHAGE1CONTROTHERADULTA1</th>\n",
       "      <th>HHAGE1CONTRCHILDA1</th>\n",
       "      <th>CORTISOLA1</th>\n",
       "      <th>HAIRWEIGHTA1</th>\n",
       "      <th>MCORTISOLA1</th>\n",
       "      <th>LMCORTISOLA1</th>\n",
       "      <th>IWDATEAGE_MASK_A1</th>\n",
       "      <th>MONTHBIRTHA1</th>\n",
       "      <th>INTERVIEWER</th>\n",
       "    </tr>\n",
       "  </thead>\n",
       "  <tbody>\n",
       "    <tr>\n",
       "      <th>0</th>\n",
       "      <td>1.0</td>\n",
       "      <td>1.0</td>\n",
       "      <td>NaN</td>\n",
       "      <td>NaN</td>\n",
       "      <td>NaN</td>\n",
       "      <td>NaN</td>\n",
       "      <td>NaN</td>\n",
       "      <td>1.0</td>\n",
       "      <td>1.0</td>\n",
       "      <td>NaN</td>\n",
       "      <td>...</td>\n",
       "      <td>1</td>\n",
       "      <td>0</td>\n",
       "      <td>0</td>\n",
       "      <td>2673.9</td>\n",
       "      <td>30.2</td>\n",
       "      <td>NaN</td>\n",
       "      <td>NaN</td>\n",
       "      <td>1.0</td>\n",
       "      <td>27.0</td>\n",
       "      <td>9.0</td>\n",
       "    </tr>\n",
       "    <tr>\n",
       "      <th>1</th>\n",
       "      <td>1.0</td>\n",
       "      <td>1.0</td>\n",
       "      <td>NaN</td>\n",
       "      <td>NaN</td>\n",
       "      <td>NaN</td>\n",
       "      <td>NaN</td>\n",
       "      <td>NaN</td>\n",
       "      <td>5.0</td>\n",
       "      <td>1.0</td>\n",
       "      <td>NaN</td>\n",
       "      <td>...</td>\n",
       "      <td>0</td>\n",
       "      <td>0</td>\n",
       "      <td>0</td>\n",
       "      <td>15.8</td>\n",
       "      <td>10.9</td>\n",
       "      <td>15.8</td>\n",
       "      <td>2.760010</td>\n",
       "      <td>0.0</td>\n",
       "      <td>21.0</td>\n",
       "      <td>1.0</td>\n",
       "    </tr>\n",
       "    <tr>\n",
       "      <th>2</th>\n",
       "      <td>1.0</td>\n",
       "      <td>1.0</td>\n",
       "      <td>NaN</td>\n",
       "      <td>NaN</td>\n",
       "      <td>NaN</td>\n",
       "      <td>NaN</td>\n",
       "      <td>NaN</td>\n",
       "      <td>5.0</td>\n",
       "      <td>1.0</td>\n",
       "      <td>NaN</td>\n",
       "      <td>...</td>\n",
       "      <td>0</td>\n",
       "      <td>0</td>\n",
       "      <td>0</td>\n",
       "      <td>0.8</td>\n",
       "      <td>20.7</td>\n",
       "      <td>0.8</td>\n",
       "      <td>-0.223144</td>\n",
       "      <td>0.0</td>\n",
       "      <td>23.0</td>\n",
       "      <td>5.0</td>\n",
       "    </tr>\n",
       "    <tr>\n",
       "      <th>3</th>\n",
       "      <td>1.0</td>\n",
       "      <td>1.0</td>\n",
       "      <td>NaN</td>\n",
       "      <td>NaN</td>\n",
       "      <td>NaN</td>\n",
       "      <td>NaN</td>\n",
       "      <td>NaN</td>\n",
       "      <td>5.0</td>\n",
       "      <td>1.0</td>\n",
       "      <td>NaN</td>\n",
       "      <td>...</td>\n",
       "      <td>1</td>\n",
       "      <td>2</td>\n",
       "      <td>0</td>\n",
       "      <td>NaN</td>\n",
       "      <td>NaN</td>\n",
       "      <td>NaN</td>\n",
       "      <td>NaN</td>\n",
       "      <td>1.0</td>\n",
       "      <td>23.0</td>\n",
       "      <td>1.0</td>\n",
       "    </tr>\n",
       "    <tr>\n",
       "      <th>4</th>\n",
       "      <td>1.0</td>\n",
       "      <td>1.0</td>\n",
       "      <td>NaN</td>\n",
       "      <td>NaN</td>\n",
       "      <td>NaN</td>\n",
       "      <td>NaN</td>\n",
       "      <td>NaN</td>\n",
       "      <td>1.0</td>\n",
       "      <td>1.0</td>\n",
       "      <td>NaN</td>\n",
       "      <td>...</td>\n",
       "      <td>0</td>\n",
       "      <td>0</td>\n",
       "      <td>0</td>\n",
       "      <td>11.5</td>\n",
       "      <td>13.6</td>\n",
       "      <td>11.5</td>\n",
       "      <td>2.442347</td>\n",
       "      <td>1.0</td>\n",
       "      <td>21.0</td>\n",
       "      <td>7.0</td>\n",
       "    </tr>\n",
       "  </tbody>\n",
       "</table>\n",
       "<p>5 rows × 2010 columns</p>\n",
       "</div>"
      ],
      "text/plain": [
       "   MSMSPROJECTIDA1  VERIFYR_S_1A1  VERIFYR_S_2A1  VERIFYR_S_3A1  \\\n",
       "0              1.0            1.0            NaN            NaN   \n",
       "1              1.0            1.0            NaN            NaN   \n",
       "2              1.0            1.0            NaN            NaN   \n",
       "3              1.0            1.0            NaN            NaN   \n",
       "4              1.0            1.0            NaN            NaN   \n",
       "\n",
       "   VERIFYR_S_4A1  VERIFYR_S_5A1  CORRGENDERCHILDA1  BABYGENDERA1  CHILDWELLA1  \\\n",
       "0            NaN            NaN                NaN           1.0          1.0   \n",
       "1            NaN            NaN                NaN           5.0          1.0   \n",
       "2            NaN            NaN                NaN           5.0          1.0   \n",
       "3            NaN            NaN                NaN           5.0          1.0   \n",
       "4            NaN            NaN                NaN           1.0          1.0   \n",
       "\n",
       "   CHILDWELL1A1  ...  HHAGE1CONTRGRANDPAA1  HHAGE1CONTROTHERADULTA1  \\\n",
       "0           NaN  ...                     1                        0   \n",
       "1           NaN  ...                     0                        0   \n",
       "2           NaN  ...                     0                        0   \n",
       "3           NaN  ...                     1                        2   \n",
       "4           NaN  ...                     0                        0   \n",
       "\n",
       "   HHAGE1CONTRCHILDA1  CORTISOLA1  HAIRWEIGHTA1  MCORTISOLA1  LMCORTISOLA1  \\\n",
       "0                   0      2673.9          30.2          NaN           NaN   \n",
       "1                   0        15.8          10.9         15.8      2.760010   \n",
       "2                   0         0.8          20.7          0.8     -0.223144   \n",
       "3                   0         NaN           NaN          NaN           NaN   \n",
       "4                   0        11.5          13.6         11.5      2.442347   \n",
       "\n",
       "   IWDATEAGE_MASK_A1  MONTHBIRTHA1  INTERVIEWER  \n",
       "0                1.0          27.0          9.0  \n",
       "1                0.0          21.0          1.0  \n",
       "2                0.0          23.0          5.0  \n",
       "3                1.0          23.0          1.0  \n",
       "4                1.0          21.0          7.0  \n",
       "\n",
       "[5 rows x 2010 columns]"
      ]
     },
     "execution_count": 51,
     "metadata": {},
     "output_type": "execute_result"
    }
   ],
   "source": [
    "# data in tsv form, imported from github\n",
    "data_link = \"https://raw.githubusercontent.com/nasim-sheikhi/DS4400-BFY-Study-Analysis/main/37871-0002-Data.tsv\"\n",
    "\n",
    "# read this file into a pandas dataframe, must indicate that it is tab deliminter not comma \n",
    "df_bfy = pd.read_csv(data_link, delimiter='\\t', na_values = ' ')\n",
    "\n",
    "# shape of dataframe (1000 rows by 2010 columns)\n",
    "print(df_bfy.shape)\n",
    "df_bfy.head()"
   ]
  },
  {
   "cell_type": "code",
   "execution_count": 3,
   "metadata": {
    "colab": {
     "base_uri": "https://localhost:8080/"
    },
    "id": "rt4QMrHxstzk",
    "outputId": "6c25f5c1-ff97-44f4-f0c4-0198320ab4d1"
   },
   "outputs": [
    {
     "data": {
      "text/plain": [
       "(986, 2010)"
      ]
     },
     "execution_count": 3,
     "metadata": {},
     "output_type": "execute_result"
    }
   ],
   "source": [
    "# Keep only children who are currently not hospitalized or deceased\n",
    "df_bfy = df_bfy[(df_bfy['CHILDWELLA1'] != 2) & (df_bfy['CHILDWELLA1'] != 3) & (df_bfy['CHILDWELLA1'] != -888)]\n",
    "\n",
    "# Keep only samples that are eligible or consented to continue\n",
    "df_bfy = df_bfy[(df_bfy['ELIGIBILITYA1'] != 1) & (df_bfy['ELIGIBILITYA1'] != 3)]\n",
    "\n",
    "# dataframe is now reduced to 986 rows \n",
    "df_bfy.shape"
   ]
  },
  {
   "cell_type": "markdown",
   "metadata": {
    "id": "bZXaRWVos-bX"
   },
   "source": [
    "### Filter data to include only survey responses for family life, maternal health, and child health:"
   ]
  },
  {
   "cell_type": "code",
   "execution_count": 4,
   "metadata": {
    "id": "650o0sn5qJyH"
   },
   "outputs": [],
   "source": [
    "'''Mom's demographics & relationship w current partner'''\n",
    "\n",
    "# race of mother\n",
    "# 1 = white, 2 = black / african-american, 7 = other\n",
    "race = 'MOMRACE_S_1A1'\n",
    "\n",
    "# -999 = refused, -888 = don't know --> replace both with nan \n",
    "df_bfy[race] = df_bfy[race].replace({-999: np.nan})\n",
    "df_bfy[race] = df_bfy[race].replace({-888: np.nan})\n",
    "\n",
    "\n",
    "#Do you consider yourself Hispanic, Latina, or Spanish origin?\n",
    "# 1 = yes \n",
    "# 5 = no\n",
    "ethnicity = 'MOMORIGINA1'\n",
    "\n",
    "\n",
    "# number of adult household members\n",
    "hh_adult_count = 'HHAGE1_ADULTSA1'\n",
    "\n",
    "\n",
    "# number of child household members\n",
    "hh_child_count = 'HHAGE1_CHILDSA1'\n",
    "\n",
    "\n",
    "# mom has a romantic partner or spouse\n",
    "# binary value\n",
    "mom_romance = 'MROMANTRELATIONA1'\n",
    "\n",
    "\n",
    "# number of unrelated adults in hh\n",
    "unrelated_hh_mem_count = 'HHCOUNT_UNRELATEDADULTA1'\n",
    "\n",
    "\n",
    "# partner contributes to income\n",
    "# binary\n",
    "partner_income = 'HHAGE1CONTRPARTNERA1'\n",
    "\n",
    "\n",
    "#biological dad contributes to income\n",
    "# binary\n",
    "biodad_income = 'HHAGE1CONTRBIODADA1'\n",
    "\n",
    "\n",
    "# number of other contributing adults \n",
    "contributing_adult_count = 'HHAGE1CONTROTHERADULTA1'\n",
    "\n",
    "\n",
    "# number of contributing children \n",
    "contributing_child_count = 'HHAGE1CONTRCHILDA1'\n",
    "\n",
    "# count of household members\n",
    "hh_member_count = 'HHAGE1_ALLA1'\n",
    "\n",
    "\n",
    "# are there no other adults in household? \n",
    "# binary \n",
    "hh_no_other_adults = 'HHNOADULTSA1'\n",
    "\n",
    "\n",
    "# lives w romantic partner \n",
    "# binary\n",
    "hh_romantic = 'HHROMANTICPA1' \n",
    "\n",
    "\n",
    "# mom's type of relationship with biodad\n",
    "# 1 We are romantically involved\n",
    "# 2 We are just friends \n",
    "# 3 Other\n",
    "rel_w_biodad = 'MRELATETYPEA1'\n",
    "\n",
    "# -999 = refused, -888 = don't know --> replace both with nan\n",
    "df_bfy[rel_w_biodad] = df_bfy[rel_w_biodad].replace({-999: np.nan})\n",
    "df_bfy[rel_w_biodad] = df_bfy[rel_w_biodad].replace({-888: np.nan})\n",
    "\n",
    "\n",
    "# relationship with current partner \n",
    "# 1 = excellent, 2 = very good, 3 = good, 4 = fair, 5 = poor\n",
    "relationship_rating = 'RSCALEA1'\n",
    "\n",
    "# -999 = refused, -888 = don't know --> replace both with nan\n",
    "df_bfy[relationship_rating] = df_bfy[relationship_rating].replace({-999: np.nan})\n",
    "df_bfy[relationship_rating] = df_bfy[relationship_rating].replace({-888: np.nan})\n",
    "\n",
    "\n",
    "\n",
    "# Has the mother ever been physically abused?\n",
    "# 0 = no, 1 = yes\n",
    "phy_abuse = 'MPHYSICALABUSEA1'\n",
    "\n",
    "# -999 = refused, -888 = don't know --> replace both with nan\n",
    "df_bfy[phy_abuse] = df_bfy[phy_abuse].replace({-999: np.nan})\n",
    "df_bfy[phy_abuse] = df_bfy[phy_abuse].replace({-888: np.nan})"
   ]
  },
  {
   "cell_type": "code",
   "execution_count": 5,
   "metadata": {
    "id": "TVfBHyfneVlg"
   },
   "outputs": [],
   "source": [
    "'''\n",
    "Income / Public Benefits\n",
    "\n",
    "1) total earned income -- TOTEARNEDINCOMEA1 (final)\n",
    "    missing (.): 66 - 6.6 % -- 54 in df\n",
    "    based on TOTALEARNEDA1 & unit (year, month, day) - TOTALEARNEDUNITA1\n",
    "    \n",
    "2) total spouse income --  TOTSPOUSEINCOMEA1 (final)\n",
    "    missing (.): 66 - 6.6 % -- 54 in df\n",
    "    based on SPOUSEEARNEDA1 & unit -- TOTALSPOUSEEARNEDUNITA1\n",
    "    \n",
    "3) total others in HH earned -- TOTOTHHHMEMINCOMEA1 (final)\n",
    "    missing (.): 66 - 6.6 % -- 54 in df\n",
    "    based on OTHERSEARNEDA1 & unit -- OTHERSEARNEDUNITA1\n",
    "    \n",
    "4) how much aid from gov (total gov income) -- TOTGOVTINCOMEA1 (final)\n",
    "    missing (.): 66 - 6.6 % -- 54 in df\n",
    "    based on GOVTINCOMEA1 & unit -- GOVTINCOMEUNITA1\n",
    "\n",
    "5) all other income -- TOTALLOTHERINCOMEA1 (final)\n",
    "    missing (.): 66 - 6.6 % -- 54 in df\n",
    "    based on ALLOTHERINCOMEA1 & unit -- ALLOTHERINCOMEUNITA1\n",
    "    \n",
    "6) combined income (all sources) - COMBINEDINCOMEA1\n",
    "    missing (.): 66 - 6.6 % -- 54 in df\n",
    "\n",
    "Maternal Health\n",
    "\n",
    "    categories - every day (1), several/week (2), several/month (3), \n",
    "    <1/month (4), never in last year (5), refused answer (-999)\n",
    "    \n",
    "1) cigarette smoking past year -- CIGSMOKEPYA1\n",
    "    refused (-999) - 1  - 0.1 %\n",
    "    blank (.) -- 401 40.1 % -- 388 rows NaN for all below\n",
    "\n",
    "2) alcohol past year -- ALCOHOLPYA1\n",
    "    refused (-999) - 2  - 0.2 %\n",
    "    blank (.) -- 401 40.1 %\n",
    "\n",
    "3) opioids past year -- OPIOIDSPYA1\n",
    "    refused (-999) - 2  - 0.2 %\n",
    "    blank (.) -- 401 40.1 %\n",
    "\n",
    "4) mom pregnant since your one year old child born (yes - 1/no - 5) -- MOMPREGA1\n",
    "    refused (-999) - 2  - 0.2 %\n",
    "    blank (.) -- 401 40.1 %\n",
    "\n",
    "'''\n",
    "\n",
    "# set refused to answer to Nan (missing values already set to NaN)\n",
    "df_bfy['CIGSMOKEPYA1'] = df_bfy['CIGSMOKEPYA1'].replace({-999: np.nan})\n",
    "df_bfy['ALCOHOLPYA1'] = df_bfy['ALCOHOLPYA1'].replace({-999: np.nan})\n",
    "df_bfy['OPIOIDSPYA1'] = df_bfy['OPIOIDSPYA1'].replace({-999: np.nan})\n",
    "df_bfy['MOMPREGA1'] = df_bfy['MOMPREGA1'].replace({-999: np.nan})"
   ]
  },
  {
   "cell_type": "code",
   "execution_count": 6,
   "metadata": {
    "id": "yAQkCslhdabP"
   },
   "outputs": [],
   "source": [
    "# 1- 5 parent confidence --> 5 = most confident\n",
    "# how strong is your confidence in raising your children? \n",
    "confidence = 'PCONFIDENTA1'\n",
    "\n",
    "# 1 - 5 mother satisfaction --> 5 = very satisfied \n",
    "# how do you feel about your life as a whole right now?\n",
    "satisfaction = 'MSATISFACTIONA1'\n",
    "\n",
    "# 1-4 mother anxiety --> 4 = highest anxiety \n",
    "# based on 21 anxiety symptom questions \n",
    "anxiety = 'MBECKCATA1'\n",
    "\n",
    "# 0 - 24 mother depression --> 24 = most depressive symptoms\n",
    "# additive index of the eight recoded PHQ-8 items (standard test for depression)\n",
    "depression = 'MPHQ8A1'\n",
    "\n",
    "# 3-15 mother sleep --> 15 = best quality sleep\n",
    "# based on sleep quality questions\n",
    "sleep = 'MSLEEPA1'\n",
    "\n",
    "# 7 - 29 mother parenting stress --> 29 = most parenting stress\n",
    "parenting_stress = 'MPARENTINGSTRESSA1'\n",
    "\n",
    "# 0 - 2 mother happiness --> 2 = happiest \n",
    "happiness = 'MHAPPYA1'\n",
    "\n",
    "#0 - 32 cumulative score range mother percieved stress --> 9 = highest perceived stress\n",
    "perceived_stress = 'MPERCEIVEDSTRESSA1'\n",
    "\n",
    "# -1.609437942505 - 6.253829002380 mother hair cortisol log and outlier adjusted\n",
    "log_transformed_cortisol = 'LMCORTISOLA1'\n",
    "\n",
    "# 1 - 5 mother steroids\n",
    "# use of any steroids can disrupt the ability to measure cortisol levels\n",
    "steroids = 'STEROIDS_B_2A1'\n",
    "\n",
    "\n",
    "# set refused to answer to Nan (missing values already set to NaN)\n",
    "df_bfy[confidence] = df_bfy[confidence].replace({-999: np.nan})\n",
    "df_bfy[satisfaction] = df_bfy[satisfaction].replace({-999: np.nan})\n",
    "df_bfy[anxiety] = df_bfy[anxiety].replace({-999: np.nan})\n",
    "df_bfy[depression] = df_bfy[depression].replace({-999: np.nan})\n",
    "df_bfy[sleep] = df_bfy[sleep].replace({-999: np.nan})\n",
    "df_bfy[parenting_stress] = df_bfy[parenting_stress].replace({-999: np.nan})\n",
    "df_bfy[happiness] = df_bfy[happiness].replace({-999: np.nan})\n",
    "df_bfy[perceived_stress] = df_bfy[perceived_stress].replace({-999: np.nan})\n",
    "df_bfy[log_transformed_cortisol] = df_bfy[log_transformed_cortisol].replace({-999: np.nan})\n",
    "df_bfy[steroids] = df_bfy[steroids].replace({-999: np.nan})"
   ]
  },
  {
   "cell_type": "code",
   "execution_count": 7,
   "metadata": {
    "id": "Fz0tz5gFnJS8"
   },
   "outputs": [],
   "source": [
    "# all feature columns above that were chosen to focus on --> narrowed down from the 2010 columns available \n",
    "# these were chosen by going through the codebook, questionaire, and user-guide to find columns that we wanted to study \n",
    "# in relation to child health as the outcome \n",
    "# many columns in the dataset are raw and repetitive, whereas some are transformed, so we needed to narrow down the features\n",
    "\n",
    "cols_wanted = [race, ethnicity, hh_adult_count, mom_romance, unrelated_hh_mem_count, partner_income, biodad_income, contributing_adult_count, \n",
    "               contributing_child_count, hh_member_count, hh_no_other_adults, hh_romantic, rel_w_biodad, relationship_rating, phy_abuse, \n",
    "               'TOTEARNEDINCOMEA1', 'TOTSPOUSEINCOMEA1', 'TOTOTHHHMEMINCOMEA1', 'TOTGOVTINCOMEA1', 'TOTALLOTHERINCOMEA1', \n",
    "               'COMBINEDINCOMEA1', 'CIGSMOKEPYA1', 'ALCOHOLPYA1', 'OPIOIDSPYA1', 'MOMPREGA1', \n",
    "               confidence, satisfaction, anxiety, depression, sleep, parenting_stress, happiness, perceived_stress, \n",
    "               log_transformed_cortisol, steroids]"
   ]
  },
  {
   "cell_type": "code",
   "execution_count": 8,
   "metadata": {
    "colab": {
     "base_uri": "https://localhost:8080/",
     "height": 317
    },
    "id": "bBXf7Xa-VoTS",
    "outputId": "c92cea2c-9279-4766-b0b4-5495b6f60e65"
   },
   "outputs": [
    {
     "name": "stdout",
     "output_type": "stream",
     "text": [
      "(986, 35)\n"
     ]
    },
    {
     "data": {
      "text/html": [
       "<div>\n",
       "<style scoped>\n",
       "    .dataframe tbody tr th:only-of-type {\n",
       "        vertical-align: middle;\n",
       "    }\n",
       "\n",
       "    .dataframe tbody tr th {\n",
       "        vertical-align: top;\n",
       "    }\n",
       "\n",
       "    .dataframe thead th {\n",
       "        text-align: right;\n",
       "    }\n",
       "</style>\n",
       "<table border=\"1\" class=\"dataframe\">\n",
       "  <thead>\n",
       "    <tr style=\"text-align: right;\">\n",
       "      <th></th>\n",
       "      <th>MOMRACE_S_1A1</th>\n",
       "      <th>MOMORIGINA1</th>\n",
       "      <th>HHAGE1_ADULTSA1</th>\n",
       "      <th>MROMANTRELATIONA1</th>\n",
       "      <th>HHCOUNT_UNRELATEDADULTA1</th>\n",
       "      <th>HHAGE1CONTRPARTNERA1</th>\n",
       "      <th>HHAGE1CONTRBIODADA1</th>\n",
       "      <th>HHAGE1CONTROTHERADULTA1</th>\n",
       "      <th>HHAGE1CONTRCHILDA1</th>\n",
       "      <th>HHAGE1_ALLA1</th>\n",
       "      <th>...</th>\n",
       "      <th>PCONFIDENTA1</th>\n",
       "      <th>MSATISFACTIONA1</th>\n",
       "      <th>MBECKCATA1</th>\n",
       "      <th>MPHQ8A1</th>\n",
       "      <th>MSLEEPA1</th>\n",
       "      <th>MPARENTINGSTRESSA1</th>\n",
       "      <th>MHAPPYA1</th>\n",
       "      <th>MPERCEIVEDSTRESSA1</th>\n",
       "      <th>LMCORTISOLA1</th>\n",
       "      <th>STEROIDS_B_2A1</th>\n",
       "    </tr>\n",
       "  </thead>\n",
       "  <tbody>\n",
       "    <tr>\n",
       "      <th>0</th>\n",
       "      <td>2.0</td>\n",
       "      <td>5.0</td>\n",
       "      <td>1.0</td>\n",
       "      <td>0.0</td>\n",
       "      <td>0</td>\n",
       "      <td>0</td>\n",
       "      <td>0</td>\n",
       "      <td>0</td>\n",
       "      <td>0</td>\n",
       "      <td>2.0</td>\n",
       "      <td>...</td>\n",
       "      <td>5.0</td>\n",
       "      <td>4.0</td>\n",
       "      <td>1.0</td>\n",
       "      <td>0.0</td>\n",
       "      <td>15.0</td>\n",
       "      <td>14.0</td>\n",
       "      <td>1.0</td>\n",
       "      <td>13.0</td>\n",
       "      <td>NaN</td>\n",
       "      <td>5.0</td>\n",
       "    </tr>\n",
       "    <tr>\n",
       "      <th>1</th>\n",
       "      <td>2.0</td>\n",
       "      <td>5.0</td>\n",
       "      <td>0.0</td>\n",
       "      <td>1.0</td>\n",
       "      <td>0</td>\n",
       "      <td>0</td>\n",
       "      <td>0</td>\n",
       "      <td>0</td>\n",
       "      <td>0</td>\n",
       "      <td>1.0</td>\n",
       "      <td>...</td>\n",
       "      <td>5.0</td>\n",
       "      <td>3.0</td>\n",
       "      <td>1.0</td>\n",
       "      <td>1.0</td>\n",
       "      <td>10.0</td>\n",
       "      <td>14.0</td>\n",
       "      <td>1.0</td>\n",
       "      <td>10.0</td>\n",
       "      <td>2.760010</td>\n",
       "      <td>5.0</td>\n",
       "    </tr>\n",
       "    <tr>\n",
       "      <th>2</th>\n",
       "      <td>1.0</td>\n",
       "      <td>5.0</td>\n",
       "      <td>2.0</td>\n",
       "      <td>0.0</td>\n",
       "      <td>1</td>\n",
       "      <td>0</td>\n",
       "      <td>0</td>\n",
       "      <td>0</td>\n",
       "      <td>0</td>\n",
       "      <td>4.0</td>\n",
       "      <td>...</td>\n",
       "      <td>4.0</td>\n",
       "      <td>2.0</td>\n",
       "      <td>2.0</td>\n",
       "      <td>7.0</td>\n",
       "      <td>9.0</td>\n",
       "      <td>20.0</td>\n",
       "      <td>1.0</td>\n",
       "      <td>17.0</td>\n",
       "      <td>-0.223144</td>\n",
       "      <td>5.0</td>\n",
       "    </tr>\n",
       "    <tr>\n",
       "      <th>3</th>\n",
       "      <td>2.0</td>\n",
       "      <td>5.0</td>\n",
       "      <td>3.0</td>\n",
       "      <td>0.0</td>\n",
       "      <td>2</td>\n",
       "      <td>0</td>\n",
       "      <td>0</td>\n",
       "      <td>2</td>\n",
       "      <td>0</td>\n",
       "      <td>5.0</td>\n",
       "      <td>...</td>\n",
       "      <td>5.0</td>\n",
       "      <td>5.0</td>\n",
       "      <td>1.0</td>\n",
       "      <td>0.0</td>\n",
       "      <td>15.0</td>\n",
       "      <td>16.0</td>\n",
       "      <td>2.0</td>\n",
       "      <td>6.0</td>\n",
       "      <td>NaN</td>\n",
       "      <td>5.0</td>\n",
       "    </tr>\n",
       "    <tr>\n",
       "      <th>4</th>\n",
       "      <td>2.0</td>\n",
       "      <td>5.0</td>\n",
       "      <td>0.0</td>\n",
       "      <td>0.0</td>\n",
       "      <td>0</td>\n",
       "      <td>0</td>\n",
       "      <td>0</td>\n",
       "      <td>0</td>\n",
       "      <td>0</td>\n",
       "      <td>2.0</td>\n",
       "      <td>...</td>\n",
       "      <td>5.0</td>\n",
       "      <td>4.0</td>\n",
       "      <td>1.0</td>\n",
       "      <td>1.0</td>\n",
       "      <td>14.0</td>\n",
       "      <td>8.0</td>\n",
       "      <td>2.0</td>\n",
       "      <td>7.0</td>\n",
       "      <td>2.442347</td>\n",
       "      <td>5.0</td>\n",
       "    </tr>\n",
       "  </tbody>\n",
       "</table>\n",
       "<p>5 rows × 35 columns</p>\n",
       "</div>"
      ],
      "text/plain": [
       "   MOMRACE_S_1A1  MOMORIGINA1  HHAGE1_ADULTSA1  MROMANTRELATIONA1  \\\n",
       "0            2.0          5.0              1.0                0.0   \n",
       "1            2.0          5.0              0.0                1.0   \n",
       "2            1.0          5.0              2.0                0.0   \n",
       "3            2.0          5.0              3.0                0.0   \n",
       "4            2.0          5.0              0.0                0.0   \n",
       "\n",
       "   HHCOUNT_UNRELATEDADULTA1  HHAGE1CONTRPARTNERA1  HHAGE1CONTRBIODADA1  \\\n",
       "0                         0                     0                    0   \n",
       "1                         0                     0                    0   \n",
       "2                         1                     0                    0   \n",
       "3                         2                     0                    0   \n",
       "4                         0                     0                    0   \n",
       "\n",
       "   HHAGE1CONTROTHERADULTA1  HHAGE1CONTRCHILDA1  HHAGE1_ALLA1  ...  \\\n",
       "0                        0                   0           2.0  ...   \n",
       "1                        0                   0           1.0  ...   \n",
       "2                        0                   0           4.0  ...   \n",
       "3                        2                   0           5.0  ...   \n",
       "4                        0                   0           2.0  ...   \n",
       "\n",
       "   PCONFIDENTA1  MSATISFACTIONA1  MBECKCATA1  MPHQ8A1  MSLEEPA1  \\\n",
       "0           5.0              4.0         1.0      0.0      15.0   \n",
       "1           5.0              3.0         1.0      1.0      10.0   \n",
       "2           4.0              2.0         2.0      7.0       9.0   \n",
       "3           5.0              5.0         1.0      0.0      15.0   \n",
       "4           5.0              4.0         1.0      1.0      14.0   \n",
       "\n",
       "   MPARENTINGSTRESSA1  MHAPPYA1  MPERCEIVEDSTRESSA1  LMCORTISOLA1  \\\n",
       "0                14.0       1.0                13.0           NaN   \n",
       "1                14.0       1.0                10.0      2.760010   \n",
       "2                20.0       1.0                17.0     -0.223144   \n",
       "3                16.0       2.0                 6.0           NaN   \n",
       "4                 8.0       2.0                 7.0      2.442347   \n",
       "\n",
       "   STEROIDS_B_2A1  \n",
       "0             5.0  \n",
       "1             5.0  \n",
       "2             5.0  \n",
       "3             5.0  \n",
       "4             5.0  \n",
       "\n",
       "[5 rows x 35 columns]"
      ]
     },
     "execution_count": 8,
     "metadata": {},
     "output_type": "execute_result"
    }
   ],
   "source": [
    "# index df_bfy by the columns that we want \n",
    "final_df = df_bfy[cols_wanted]\n",
    "# now there are 35 feature columns\n",
    "print(final_df.shape)\n",
    "final_df.head()"
   ]
  },
  {
   "cell_type": "markdown",
   "metadata": {
    "id": "vY5z81pf8e4c"
   },
   "source": [
    "# **Data Exploration:**"
   ]
  },
  {
   "cell_type": "code",
   "execution_count": 9,
   "metadata": {
    "id": "vOMlEYBR8ZAY"
   },
   "outputs": [],
   "source": [
    "# demo columns to use in exploratory analysis \n",
    "demo_cols = ['CFEMALEA1', 'MRACEA1', 'MRACEEXPA1', 'HHMOMEARNEDA1', 'HHINCOMEA1']\n",
    "\n",
    "df_demo = df_bfy.loc[:, demo_cols]"
   ]
  },
  {
   "cell_type": "code",
   "execution_count": 10,
   "metadata": {
    "colab": {
     "base_uri": "https://localhost:8080/",
     "height": 464
    },
    "id": "WHCFGm_S8pmD",
    "outputId": "d82cc32a-5b9d-49af-93b5-94b454a740f9"
   },
   "outputs": [
    {
     "data": {
      "image/png": "[encoded data removed]",
      "text/plain": [
       "<Figure size 640x480 with 1 Axes>"
      ]
     },
     "metadata": {},
     "output_type": "display_data"
    }
   ],
   "source": [
    "# set the theme for seaborn and matplotlib graphs\n",
    "sns.set_theme()\n",
    "\n",
    "# Count male and female babies\n",
    "child_sex = df_demo['CFEMALEA1'].replace({0: 'male', 1: 'female'})\n",
    "child_sex_counts = child_sex.value_counts()\n",
    "\n",
    "# Plot male and female child sex counts\n",
    "plt.bar(child_sex_counts.index, child_sex_counts.values)\n",
    "plt.ylim(0,500)\n",
    "# label y and x axis\n",
    "plt.ylabel('Frequency')\n",
    "plt.xlabel('Child sex');"
   ]
  },
  {
   "cell_type": "code",
   "execution_count": 11,
   "metadata": {
    "colab": {
     "base_uri": "https://localhost:8080/",
     "height": 458
    },
    "id": "3wPXYUW08pob",
    "outputId": "68caf42b-647a-4b35-d8b8-1d798098467c"
   },
   "outputs": [
    {
     "data": {
      "image/png": "[encoded data removed]",
      "text/plain": [
       "<Figure size 640x480 with 1 Axes>"
      ]
     },
     "metadata": {},
     "output_type": "display_data"
    }
   ],
   "source": [
    "# dictionary of questionaire answer with associated race\n",
    "int_race_conversion = {1: 'white', 2: 'black', 3: 'multiple', 4: 'other', 5: 'hispanic'}\n",
    "# index dataframe by race and replace integer with race\n",
    "mom_race = df_demo['MRACEA1'].replace(int_race_conversion)\n",
    "# get the count per race\n",
    "mom_race_counts = mom_race.value_counts()\n",
    "\n",
    "# Plot mom races\n",
    "plt.bar(mom_race_counts.index, mom_race_counts.values)\n",
    "# label y and x axis \n",
    "plt.ylabel('Frequency')\n",
    "plt.xlabel('Race of mother');"
   ]
  },
  {
   "cell_type": "code",
   "execution_count": 12,
   "metadata": {
    "colab": {
     "base_uri": "https://localhost:8080/",
     "height": 458
    },
    "id": "D2WmiN0f8u-X",
    "outputId": "09c3ff68-8a66-4026-df71-2d389a2e7ae7"
   },
   "outputs": [
    {
     "data": {
      "image/png": "[encoded data removed]",
      "text/plain": [
       "<Figure size 640x480 with 1 Axes>"
      ]
     },
     "metadata": {},
     "output_type": "display_data"
    }
   ],
   "source": [
    "# make a boxplot of the household income \n",
    "sns.boxplot(df_demo['HHINCOMEA1'], orient='h')\n",
    "plt.xlim(-2000,102000)\n",
    "plt.xticks(np.linspace(0,100000, 11), labels=np.linspace(0,100,11))\n",
    "# label axis \n",
    "plt.xlabel('Income in thousand USD (2019)')\n",
    "plt.yticks([]);"
   ]
  },
  {
   "cell_type": "markdown",
   "metadata": {
    "id": "Jx3IQnW384S2"
   },
   "source": [
    "### Child outcome variables examination:"
   ]
  },
  {
   "cell_type": "code",
   "execution_count": 13,
   "metadata": {
    "id": "jR0xfkFO82JZ"
   },
   "outputs": [],
   "source": [
    "# Other lang: TOT_CASQLANGA1, CASQLANGCUTOFFA1, CASQLANGA1\n",
    "# Other BITSEA: CBITSEAPCUTOFFA1\n",
    " \n",
    "# outcome features we are interested in using\n",
    "outcome_feats = ['CBITSEAPA1', 'CSICKHEALTHA1', 'CPROMISA1',\n",
    "          'TOT_CASQLANGA1']\n",
    "\n",
    "# Higher BITSEA, POOR HEALTH, PROMIS = GREATER DISTURBANCES\n",
    "# Higher ASQ = BETTER LANGUAGE DEVELOPMENT\n",
    "\n",
    "# index dataframe by these outcome variables to just get these values\n",
    "df_c_outcomes = df_bfy.loc[:,outcome_feats]"
   ]
  },
  {
   "cell_type": "code",
   "execution_count": 14,
   "metadata": {
    "colab": {
     "base_uri": "https://localhost:8080/",
     "height": 474
    },
    "id": "bNvMAfXF82SP",
    "outputId": "9e2edc4d-f25d-4007-d57e-cc025c99d125"
   },
   "outputs": [
    {
     "data": {
      "image/png": "[encoded data removed]",
      "text/plain": [
       "<Figure size 640x480 with 2 Axes>"
      ]
     },
     "metadata": {},
     "output_type": "display_data"
    }
   ],
   "source": [
    "# determine correlation between outcome variables \n",
    "outcomes_corr = df_c_outcomes.corr()\n",
    "outcome_corr_tri = np.tril(outcomes_corr)\n",
    "outcome_corr_tri[outcome_corr_tri == 0] = np.nan\n",
    "corr_labels = ['BITSEA\\nscore', 'POORHEALTH\\nindex', 'PROMIS\\nscore', 'ASQLANG\\nscore']\n",
    "\n",
    "# make a heatmap of these correlations \n",
    "sns.heatmap(outcome_corr_tri, cmap=\"coolwarm\", vmin=-1, vmax=1, annot=True,\n",
    "           xticklabels=corr_labels, yticklabels=corr_labels)\n",
    "plt.title('Correlations between child health outcomes');"
   ]
  },
  {
   "cell_type": "markdown",
   "metadata": {
    "id": "nITuN37b9ELc"
   },
   "source": [
    "Moderate positive correlations between child physical health, sleep disturbances, and social-emotional development. These three variables will be the focus of child outcome analyses. Negligent correlations with language development. "
   ]
  },
  {
   "cell_type": "code",
   "execution_count": 15,
   "metadata": {
    "id": "qPhEQZtF0nKG"
   },
   "outputs": [],
   "source": [
    "# remove ASQLANG because it has negligible correlations\n",
    "outcome_feats = outcome_feats[:3]"
   ]
  },
  {
   "cell_type": "markdown",
   "metadata": {
    "id": "YJ8BZScJw5jA"
   },
   "source": [
    "# **Outcome Feature Cleaning:**"
   ]
  },
  {
   "cell_type": "markdown",
   "metadata": {
    "id": "PAJMheuaZYgX"
   },
   "source": [
    "### Are the outcome variables normally distributed?"
   ]
  },
  {
   "cell_type": "code",
   "execution_count": 16,
   "metadata": {
    "colab": {
     "base_uri": "https://localhost:8080/",
     "height": 385
    },
    "id": "JgM40eXEp6Xc",
    "outputId": "b559fef0-8808-4b36-84e9-da062cfbd9c7"
   },
   "outputs": [
    {
     "data": {
      "image/png": "[encoded data removed]",
      "text/plain": [
       "<Figure size 2000x500 with 3 Axes>"
      ]
     },
     "metadata": {},
     "output_type": "display_data"
    }
   ],
   "source": [
    "# Examine histogram distribution of outcome variables\n",
    "\n",
    "def outcome_hist():\n",
    " \n",
    "    # Create dist plots of each variable\n",
    "    fig, axes = plt.subplots(ncols=3, nrows=1, figsize=(20, 5))\n",
    "    for i, ax in zip(range(len(outcome_feats)), axes.flat):\n",
    "        # make a histograme of each of the outcome variables\n",
    "        sns.histplot(df_bfy[outcome_feats[i]], ax=ax)\n",
    "    plt.show()\n",
    "\n",
    "outcome_hist()"
   ]
  },
  {
   "cell_type": "markdown",
   "metadata": {
    "id": "aX4MuC6QTC_2"
   },
   "source": [
    "Calculate skewness and kurtosis of outcome variables:"
   ]
  },
  {
   "cell_type": "code",
   "execution_count": 17,
   "metadata": {
    "id": "UXvhoBQ0Zbdq"
   },
   "outputs": [],
   "source": [
    "def calc_skew_kurt(scores):\n",
    "    ''' Reports skewness and kurtosis of a feature, and whether they are significantly\n",
    "    different from normal distribution\n",
    "    \n",
    "    Args:\n",
    "        scores (1d np.array-like) : Assessment scores\n",
    "        \n",
    "    Returns:\n",
    "        score_skew (float) : Skewness of score\n",
    "        skew_z (float) : z-score of test to compute whether skewness differs from normal\n",
    "        skew_p (float) : p-value of test to compute whether skewness differs from normal\n",
    "        score_kurt (float) : Kurtosis of score\n",
    "        kurt_z (float) : z-score of test to compute whether kurtosis differs from normal\n",
    "        kurt_p (float) : p-value of test to compute whether kurtosis differs from normal\n",
    "    '''\n",
    "    \n",
    "    # Measure skewness and difference from normal distribution\n",
    "    score_skew = stats.skew(scores, nan_policy='omit')\n",
    "    skew_z, skew_p = stats.skewtest(scores, nan_policy='omit')\n",
    "    \n",
    "    # Measure kurtosis and difference from normal distribution\n",
    "    score_kurt = stats.kurtosis(scores, nan_policy='omit')\n",
    "    kurt_z, kurt_p = stats.kurtosistest(scores, nan_policy='omit')\n",
    "    \n",
    "    \n",
    "    return score_skew, skew_z, skew_p, score_kurt, kurt_z, kurt_p"
   ]
  },
  {
   "cell_type": "markdown",
   "metadata": {
    "id": "zfsJDBnfaYU_"
   },
   "source": [
    "Null hypothesis: The outcome variables are normally distributed (skewness and kurtosis not significantly different from 0). Reject if p <= 0.05\n",
    "\n",
    "Alternative hypothesis: The outcome variables are not normally distributed (skewness and kurtosis are significantly different from 0)."
   ]
  },
  {
   "cell_type": "code",
   "execution_count": 18,
   "metadata": {
    "colab": {
     "base_uri": "https://localhost:8080/"
    },
    "id": "N9DZK32ZZbl6",
    "outputId": "5b22273a-1672-440e-ce31-c0723e788263"
   },
   "outputs": [
    {
     "name": "stdout",
     "output_type": "stream",
     "text": [
      "Outcome: CBITSEAPA1\n",
      "\tSkewness: 1.272\n",
      "\t\tSkewness z-score: 12.594\n",
      "\t\tSkewness p-value: 0.000\n",
      "\tKurtosis: 2.165\n",
      "\t\tKurtosis z-score: 7.110\n",
      "\t\tKurtosis p-value: 0.000\n",
      "Outcome: CSICKHEALTHA1\n",
      "\tSkewness: 0.583\n",
      "\t\tSkewness z-score: 6.802\n",
      "\t\tSkewness p-value: 0.000\n",
      "\tKurtosis: -0.139\n",
      "\t\tKurtosis z-score: -0.817\n",
      "\t\tKurtosis p-value: 0.414\n",
      "Outcome: CPROMISA1\n",
      "\tSkewness: 0.761\n",
      "\t\tSkewness z-score: 8.536\n",
      "\t\tSkewness p-value: 0.000\n",
      "\tKurtosis: 0.286\n",
      "\t\tKurtosis z-score: 1.701\n",
      "\t\tKurtosis p-value: 0.089\n"
     ]
    }
   ],
   "source": [
    "# print the output of the calc_skew_kurt function after rounding the various measurements \n",
    "for outcome_feat in outcome_feats:\n",
    "    outcome_scores = np.array(df_c_outcomes[outcome_feat])\n",
    "    skew, skew_z, skew_p, kurt, kurt_z, kurt_p = calc_skew_kurt(outcome_scores)\n",
    "    print(f'Outcome: {outcome_feat}')\n",
    "    print(f'\\tSkewness: {skew:.3f}')\n",
    "    print(f'\\t\\tSkewness z-score: {skew_z:.3f}')\n",
    "    print(f'\\t\\tSkewness p-value: {skew_p:.3f}')\n",
    "    print(f'\\tKurtosis: {kurt:.3f}')\n",
    "    print(f'\\t\\tKurtosis z-score: {kurt_z:.3f}')\n",
    "    print(f'\\t\\tKurtosis p-value: {kurt_p:.3f}')"
   ]
  },
  {
   "cell_type": "markdown",
   "metadata": {
    "id": "nwxp13faZw5H"
   },
   "source": [
    "Conclusion: Child outcomes (social-emotional development, sleep disturbances, and physical health) are not normally distributed.\n",
    "\n",
    "Takeaway: Normalize, don't standardize, data for future analyses. Do not assume normal distribution in future analyses."
   ]
  },
  {
   "cell_type": "markdown",
   "metadata": {
    "id": "EEe1rT4VZxoy"
   },
   "source": [
    "### Feature scaling for child outcomes:"
   ]
  },
  {
   "cell_type": "code",
   "execution_count": 19,
   "metadata": {
    "id": "Zm7sy_91ZoOv"
   },
   "outputs": [],
   "source": [
    "def normalize_scores(scores):\n",
    "    ''' Imputes missing and normalizes feature scores\n",
    "        ** Need to impute to normalize w/ sklearn **\n",
    "    \n",
    "    Args:\n",
    "        scores (1d np.array-like) : Scores for one feature\n",
    "    \n",
    "    Returns:\n",
    "        scores_norm (1d np.array) : Normalized scores\n",
    "    '''\n",
    "    \n",
    "    # Confirm that scores are in 1d np.array format\n",
    "    scores_arr = np.array(scores).reshape(-1,1)\n",
    "    \n",
    "    # impute by replacing missing values with median\n",
    "    imp = SimpleImputer(missing_values=np.nan, strategy='median')\n",
    "    imp.fit(scores_arr)\n",
    "    scores_imp = imp.transform(scores_arr)\n",
    "\n",
    "    # normalize the scores\n",
    "    scores_norm = normalize(scores_imp, norm='max', axis=0)\n",
    "    \n",
    "    \n",
    "    return scores_norm"
   ]
  },
  {
   "cell_type": "code",
   "execution_count": 20,
   "metadata": {
    "id": "xwj5BFBrZoVT"
   },
   "outputs": [],
   "source": [
    "# Normalize child outcome variables with median imputation for missing values\n",
    "bitsea_norm = normalize_scores(df_c_outcomes['CBITSEAPA1'])\n",
    "poor_health_norm = normalize_scores(df_c_outcomes['CSICKHEALTHA1'])\n",
    "promis_norm = normalize_scores(df_c_outcomes['CPROMISA1'])\n",
    "\n",
    "# Sum normalized outcome variable scores\n",
    "# overall_c_outcome will be a score between 0 and 3, where\n",
    "# 0 = less issues with social-emotional development, sleep, or physical health, and\n",
    "# 3 = more issues with social-emotional development, sleep, or physical health\n",
    "overall_c_outcome = (bitsea_norm + poor_health_norm + promis_norm).reshape(-1,)"
   ]
  },
  {
   "cell_type": "code",
   "execution_count": 21,
   "metadata": {
    "colab": {
     "base_uri": "https://localhost:8080/",
     "height": 458
    },
    "id": "L4TtKzkLZ4Jp",
    "outputId": "fed4a087-bfda-4249-b909-97262a879c10"
   },
   "outputs": [
    {
     "data": {
      "image/png": "[encoded data removed]",
      "text/plain": [
       "<Figure size 640x480 with 1 Axes>"
      ]
     },
     "metadata": {},
     "output_type": "display_data"
    }
   ],
   "source": [
    "# histogram to show that the outcome data is now normalized \n",
    "sns.histplot(overall_c_outcome, bins=12, stat='count', binrange=(0,3), kde=True)\n",
    "plt.xlabel('Child outcome score');"
   ]
  },
  {
   "cell_type": "markdown",
   "metadata": {
    "id": "hvZ1AnRVwCSM"
   },
   "source": [
    "Individual child outcome features are normalized and summed together to one overall child outcome variable, whose value falls between 0 and 3. Values closer to 0 indicate healthy development, and values closer to 1 indicate poor development."
   ]
  },
  {
   "cell_type": "code",
   "execution_count": 22,
   "metadata": {
    "id": "9mB3CzhTRWO_"
   },
   "outputs": [],
   "source": [
    "# add the outcome column to the final_df that currently contains all of the feature variables\n",
    "final_df['CHILD_OUTCOME'] = overall_c_outcome"
   ]
  },
  {
   "cell_type": "code",
   "execution_count": 23,
   "metadata": {
    "id": "iXnKOoyjzUt2"
   },
   "outputs": [],
   "source": [
    "# Binarize child outcome: 0 = good health, 1 = poor health\n",
    "# get the median of the outcome column\n",
    "outcome_med = np.median(overall_c_outcome)\n",
    "# split into bins based on the median \n",
    "final_df['CHILD_OUTCOME_BIN'] = np.where(overall_c_outcome <= outcome_med, 0, 1)"
   ]
  },
  {
   "cell_type": "code",
   "execution_count": 24,
   "metadata": {
    "colab": {
     "base_uri": "https://localhost:8080/",
     "height": 506
    },
    "id": "THTR4HJs12TR",
    "outputId": "5d6c1bcd-06ca-4c8e-b0bd-e7c6210f0669"
   },
   "outputs": [
    {
     "name": "stdout",
     "output_type": "stream",
     "text": [
      "(986, 37)\n"
     ]
    },
    {
     "data": {
      "text/html": [
       "<div>\n",
       "<style scoped>\n",
       "    .dataframe tbody tr th:only-of-type {\n",
       "        vertical-align: middle;\n",
       "    }\n",
       "\n",
       "    .dataframe tbody tr th {\n",
       "        vertical-align: top;\n",
       "    }\n",
       "\n",
       "    .dataframe thead th {\n",
       "        text-align: right;\n",
       "    }\n",
       "</style>\n",
       "<table border=\"1\" class=\"dataframe\">\n",
       "  <thead>\n",
       "    <tr style=\"text-align: right;\">\n",
       "      <th></th>\n",
       "      <th>MOMRACE_S_1A1</th>\n",
       "      <th>MOMORIGINA1</th>\n",
       "      <th>HHAGE1_ADULTSA1</th>\n",
       "      <th>MROMANTRELATIONA1</th>\n",
       "      <th>HHCOUNT_UNRELATEDADULTA1</th>\n",
       "      <th>HHAGE1CONTRPARTNERA1</th>\n",
       "      <th>HHAGE1CONTRBIODADA1</th>\n",
       "      <th>HHAGE1CONTROTHERADULTA1</th>\n",
       "      <th>HHAGE1CONTRCHILDA1</th>\n",
       "      <th>HHAGE1_ALLA1</th>\n",
       "      <th>...</th>\n",
       "      <th>MBECKCATA1</th>\n",
       "      <th>MPHQ8A1</th>\n",
       "      <th>MSLEEPA1</th>\n",
       "      <th>MPARENTINGSTRESSA1</th>\n",
       "      <th>MHAPPYA1</th>\n",
       "      <th>MPERCEIVEDSTRESSA1</th>\n",
       "      <th>LMCORTISOLA1</th>\n",
       "      <th>STEROIDS_B_2A1</th>\n",
       "      <th>CHILD_OUTCOME</th>\n",
       "      <th>CHILD_OUTCOME_BIN</th>\n",
       "    </tr>\n",
       "  </thead>\n",
       "  <tbody>\n",
       "    <tr>\n",
       "      <th>0</th>\n",
       "      <td>2.0</td>\n",
       "      <td>5.0</td>\n",
       "      <td>1.0</td>\n",
       "      <td>0.0</td>\n",
       "      <td>0</td>\n",
       "      <td>0</td>\n",
       "      <td>0</td>\n",
       "      <td>0</td>\n",
       "      <td>0</td>\n",
       "      <td>2.0</td>\n",
       "      <td>...</td>\n",
       "      <td>1.0</td>\n",
       "      <td>0.0</td>\n",
       "      <td>15.0</td>\n",
       "      <td>14.0</td>\n",
       "      <td>1.0</td>\n",
       "      <td>13.0</td>\n",
       "      <td>NaN</td>\n",
       "      <td>5.0</td>\n",
       "      <td>0.771429</td>\n",
       "      <td>0</td>\n",
       "    </tr>\n",
       "    <tr>\n",
       "      <th>1</th>\n",
       "      <td>2.0</td>\n",
       "      <td>5.0</td>\n",
       "      <td>0.0</td>\n",
       "      <td>1.0</td>\n",
       "      <td>0</td>\n",
       "      <td>0</td>\n",
       "      <td>0</td>\n",
       "      <td>0</td>\n",
       "      <td>0</td>\n",
       "      <td>1.0</td>\n",
       "      <td>...</td>\n",
       "      <td>1.0</td>\n",
       "      <td>1.0</td>\n",
       "      <td>10.0</td>\n",
       "      <td>14.0</td>\n",
       "      <td>1.0</td>\n",
       "      <td>10.0</td>\n",
       "      <td>2.760010</td>\n",
       "      <td>5.0</td>\n",
       "      <td>0.876190</td>\n",
       "      <td>0</td>\n",
       "    </tr>\n",
       "    <tr>\n",
       "      <th>2</th>\n",
       "      <td>1.0</td>\n",
       "      <td>5.0</td>\n",
       "      <td>2.0</td>\n",
       "      <td>0.0</td>\n",
       "      <td>1</td>\n",
       "      <td>0</td>\n",
       "      <td>0</td>\n",
       "      <td>0</td>\n",
       "      <td>0</td>\n",
       "      <td>4.0</td>\n",
       "      <td>...</td>\n",
       "      <td>2.0</td>\n",
       "      <td>7.0</td>\n",
       "      <td>9.0</td>\n",
       "      <td>20.0</td>\n",
       "      <td>1.0</td>\n",
       "      <td>17.0</td>\n",
       "      <td>-0.223144</td>\n",
       "      <td>5.0</td>\n",
       "      <td>0.916667</td>\n",
       "      <td>0</td>\n",
       "    </tr>\n",
       "    <tr>\n",
       "      <th>3</th>\n",
       "      <td>2.0</td>\n",
       "      <td>5.0</td>\n",
       "      <td>3.0</td>\n",
       "      <td>0.0</td>\n",
       "      <td>2</td>\n",
       "      <td>0</td>\n",
       "      <td>0</td>\n",
       "      <td>2</td>\n",
       "      <td>0</td>\n",
       "      <td>5.0</td>\n",
       "      <td>...</td>\n",
       "      <td>1.0</td>\n",
       "      <td>0.0</td>\n",
       "      <td>15.0</td>\n",
       "      <td>16.0</td>\n",
       "      <td>2.0</td>\n",
       "      <td>6.0</td>\n",
       "      <td>NaN</td>\n",
       "      <td>5.0</td>\n",
       "      <td>0.914286</td>\n",
       "      <td>0</td>\n",
       "    </tr>\n",
       "    <tr>\n",
       "      <th>4</th>\n",
       "      <td>2.0</td>\n",
       "      <td>5.0</td>\n",
       "      <td>0.0</td>\n",
       "      <td>0.0</td>\n",
       "      <td>0</td>\n",
       "      <td>0</td>\n",
       "      <td>0</td>\n",
       "      <td>0</td>\n",
       "      <td>0</td>\n",
       "      <td>2.0</td>\n",
       "      <td>...</td>\n",
       "      <td>1.0</td>\n",
       "      <td>1.0</td>\n",
       "      <td>14.0</td>\n",
       "      <td>8.0</td>\n",
       "      <td>2.0</td>\n",
       "      <td>7.0</td>\n",
       "      <td>2.442347</td>\n",
       "      <td>5.0</td>\n",
       "      <td>0.916667</td>\n",
       "      <td>0</td>\n",
       "    </tr>\n",
       "    <tr>\n",
       "      <th>...</th>\n",
       "      <td>...</td>\n",
       "      <td>...</td>\n",
       "      <td>...</td>\n",
       "      <td>...</td>\n",
       "      <td>...</td>\n",
       "      <td>...</td>\n",
       "      <td>...</td>\n",
       "      <td>...</td>\n",
       "      <td>...</td>\n",
       "      <td>...</td>\n",
       "      <td>...</td>\n",
       "      <td>...</td>\n",
       "      <td>...</td>\n",
       "      <td>...</td>\n",
       "      <td>...</td>\n",
       "      <td>...</td>\n",
       "      <td>...</td>\n",
       "      <td>...</td>\n",
       "      <td>...</td>\n",
       "      <td>...</td>\n",
       "      <td>...</td>\n",
       "    </tr>\n",
       "    <tr>\n",
       "      <th>995</th>\n",
       "      <td>7.0</td>\n",
       "      <td>1.0</td>\n",
       "      <td>1.0</td>\n",
       "      <td>1.0</td>\n",
       "      <td>0</td>\n",
       "      <td>1</td>\n",
       "      <td>0</td>\n",
       "      <td>0</td>\n",
       "      <td>0</td>\n",
       "      <td>2.0</td>\n",
       "      <td>...</td>\n",
       "      <td>1.0</td>\n",
       "      <td>0.0</td>\n",
       "      <td>14.0</td>\n",
       "      <td>17.0</td>\n",
       "      <td>1.0</td>\n",
       "      <td>14.0</td>\n",
       "      <td>NaN</td>\n",
       "      <td>NaN</td>\n",
       "      <td>1.092857</td>\n",
       "      <td>1</td>\n",
       "    </tr>\n",
       "    <tr>\n",
       "      <th>996</th>\n",
       "      <td>2.0</td>\n",
       "      <td>5.0</td>\n",
       "      <td>1.0</td>\n",
       "      <td>1.0</td>\n",
       "      <td>0</td>\n",
       "      <td>1</td>\n",
       "      <td>1</td>\n",
       "      <td>0</td>\n",
       "      <td>0</td>\n",
       "      <td>4.0</td>\n",
       "      <td>...</td>\n",
       "      <td>1.0</td>\n",
       "      <td>0.0</td>\n",
       "      <td>11.0</td>\n",
       "      <td>13.0</td>\n",
       "      <td>2.0</td>\n",
       "      <td>13.0</td>\n",
       "      <td>NaN</td>\n",
       "      <td>NaN</td>\n",
       "      <td>1.145238</td>\n",
       "      <td>1</td>\n",
       "    </tr>\n",
       "    <tr>\n",
       "      <th>997</th>\n",
       "      <td>7.0</td>\n",
       "      <td>1.0</td>\n",
       "      <td>1.0</td>\n",
       "      <td>1.0</td>\n",
       "      <td>1</td>\n",
       "      <td>0</td>\n",
       "      <td>0</td>\n",
       "      <td>0</td>\n",
       "      <td>0</td>\n",
       "      <td>2.0</td>\n",
       "      <td>...</td>\n",
       "      <td>1.0</td>\n",
       "      <td>1.0</td>\n",
       "      <td>13.0</td>\n",
       "      <td>14.0</td>\n",
       "      <td>0.0</td>\n",
       "      <td>2.0</td>\n",
       "      <td>NaN</td>\n",
       "      <td>NaN</td>\n",
       "      <td>1.204762</td>\n",
       "      <td>1</td>\n",
       "    </tr>\n",
       "    <tr>\n",
       "      <th>998</th>\n",
       "      <td>7.0</td>\n",
       "      <td>1.0</td>\n",
       "      <td>1.0</td>\n",
       "      <td>1.0</td>\n",
       "      <td>0</td>\n",
       "      <td>1</td>\n",
       "      <td>1</td>\n",
       "      <td>0</td>\n",
       "      <td>0</td>\n",
       "      <td>2.0</td>\n",
       "      <td>...</td>\n",
       "      <td>1.0</td>\n",
       "      <td>0.0</td>\n",
       "      <td>12.0</td>\n",
       "      <td>10.0</td>\n",
       "      <td>2.0</td>\n",
       "      <td>6.0</td>\n",
       "      <td>NaN</td>\n",
       "      <td>NaN</td>\n",
       "      <td>0.714286</td>\n",
       "      <td>0</td>\n",
       "    </tr>\n",
       "    <tr>\n",
       "      <th>999</th>\n",
       "      <td>1.0</td>\n",
       "      <td>1.0</td>\n",
       "      <td>1.0</td>\n",
       "      <td>1.0</td>\n",
       "      <td>0</td>\n",
       "      <td>1</td>\n",
       "      <td>1</td>\n",
       "      <td>0</td>\n",
       "      <td>0</td>\n",
       "      <td>3.0</td>\n",
       "      <td>...</td>\n",
       "      <td>1.0</td>\n",
       "      <td>0.0</td>\n",
       "      <td>10.0</td>\n",
       "      <td>19.0</td>\n",
       "      <td>1.0</td>\n",
       "      <td>8.0</td>\n",
       "      <td>NaN</td>\n",
       "      <td>NaN</td>\n",
       "      <td>1.123810</td>\n",
       "      <td>1</td>\n",
       "    </tr>\n",
       "  </tbody>\n",
       "</table>\n",
       "<p>986 rows × 37 columns</p>\n",
       "</div>"
      ],
      "text/plain": [
       "     MOMRACE_S_1A1  MOMORIGINA1  HHAGE1_ADULTSA1  MROMANTRELATIONA1  \\\n",
       "0              2.0          5.0              1.0                0.0   \n",
       "1              2.0          5.0              0.0                1.0   \n",
       "2              1.0          5.0              2.0                0.0   \n",
       "3              2.0          5.0              3.0                0.0   \n",
       "4              2.0          5.0              0.0                0.0   \n",
       "..             ...          ...              ...                ...   \n",
       "995            7.0          1.0              1.0                1.0   \n",
       "996            2.0          5.0              1.0                1.0   \n",
       "997            7.0          1.0              1.0                1.0   \n",
       "998            7.0          1.0              1.0                1.0   \n",
       "999            1.0          1.0              1.0                1.0   \n",
       "\n",
       "     HHCOUNT_UNRELATEDADULTA1  HHAGE1CONTRPARTNERA1  HHAGE1CONTRBIODADA1  \\\n",
       "0                           0                     0                    0   \n",
       "1                           0                     0                    0   \n",
       "2                           1                     0                    0   \n",
       "3                           2                     0                    0   \n",
       "4                           0                     0                    0   \n",
       "..                        ...                   ...                  ...   \n",
       "995                         0                     1                    0   \n",
       "996                         0                     1                    1   \n",
       "997                         1                     0                    0   \n",
       "998                         0                     1                    1   \n",
       "999                         0                     1                    1   \n",
       "\n",
       "     HHAGE1CONTROTHERADULTA1  HHAGE1CONTRCHILDA1  HHAGE1_ALLA1  ...  \\\n",
       "0                          0                   0           2.0  ...   \n",
       "1                          0                   0           1.0  ...   \n",
       "2                          0                   0           4.0  ...   \n",
       "3                          2                   0           5.0  ...   \n",
       "4                          0                   0           2.0  ...   \n",
       "..                       ...                 ...           ...  ...   \n",
       "995                        0                   0           2.0  ...   \n",
       "996                        0                   0           4.0  ...   \n",
       "997                        0                   0           2.0  ...   \n",
       "998                        0                   0           2.0  ...   \n",
       "999                        0                   0           3.0  ...   \n",
       "\n",
       "     MBECKCATA1  MPHQ8A1  MSLEEPA1  MPARENTINGSTRESSA1  MHAPPYA1  \\\n",
       "0           1.0      0.0      15.0                14.0       1.0   \n",
       "1           1.0      1.0      10.0                14.0       1.0   \n",
       "2           2.0      7.0       9.0                20.0       1.0   \n",
       "3           1.0      0.0      15.0                16.0       2.0   \n",
       "4           1.0      1.0      14.0                 8.0       2.0   \n",
       "..          ...      ...       ...                 ...       ...   \n",
       "995         1.0      0.0      14.0                17.0       1.0   \n",
       "996         1.0      0.0      11.0                13.0       2.0   \n",
       "997         1.0      1.0      13.0                14.0       0.0   \n",
       "998         1.0      0.0      12.0                10.0       2.0   \n",
       "999         1.0      0.0      10.0                19.0       1.0   \n",
       "\n",
       "     MPERCEIVEDSTRESSA1  LMCORTISOLA1  STEROIDS_B_2A1  CHILD_OUTCOME  \\\n",
       "0                  13.0           NaN             5.0       0.771429   \n",
       "1                  10.0      2.760010             5.0       0.876190   \n",
       "2                  17.0     -0.223144             5.0       0.916667   \n",
       "3                   6.0           NaN             5.0       0.914286   \n",
       "4                   7.0      2.442347             5.0       0.916667   \n",
       "..                  ...           ...             ...            ...   \n",
       "995                14.0           NaN             NaN       1.092857   \n",
       "996                13.0           NaN             NaN       1.145238   \n",
       "997                 2.0           NaN             NaN       1.204762   \n",
       "998                 6.0           NaN             NaN       0.714286   \n",
       "999                 8.0           NaN             NaN       1.123810   \n",
       "\n",
       "     CHILD_OUTCOME_BIN  \n",
       "0                    0  \n",
       "1                    0  \n",
       "2                    0  \n",
       "3                    0  \n",
       "4                    0  \n",
       "..                 ...  \n",
       "995                  1  \n",
       "996                  1  \n",
       "997                  1  \n",
       "998                  0  \n",
       "999                  1  \n",
       "\n",
       "[986 rows x 37 columns]"
      ]
     },
     "execution_count": 24,
     "metadata": {},
     "output_type": "execute_result"
    }
   ],
   "source": [
    "# now there are 37 total columns\n",
    "print(final_df.shape)\n",
    "# now the outcome column is binned \n",
    "final_df"
   ]
  },
  {
   "cell_type": "code",
   "execution_count": 25,
   "metadata": {
    "id": "vZH8s1LesXYC"
   },
   "outputs": [],
   "source": [
    "# Sklearn (decision tree and logistic regression) cannot handle missing values\n",
    "# Fill missing values (nan) with mean of feature\n",
    "fillna_dict = {column : final_df[column].mean() for column in final_df.columns}\n",
    "final_df = final_df.fillna(value=fillna_dict)"
   ]
  },
  {
   "cell_type": "markdown",
   "metadata": {
    "id": "RFp2siP9whW7"
   },
   "source": [
    "# **Data Analysis - Classification:**"
   ]
  },
  {
   "cell_type": "markdown",
   "metadata": {
    "id": "vB_SDG-axktj"
   },
   "source": [
    "### Import relevant sklearn functions:"
   ]
  },
  {
   "cell_type": "code",
   "execution_count": 26,
   "metadata": {
    "id": "RF8S3rAFpDOc"
   },
   "outputs": [],
   "source": [
    "# import relevant sklearn functions \n",
    "\n",
    "from sklearn.linear_model import LogisticRegression\n",
    "from sklearn.tree import DecisionTreeClassifier\n",
    "\n",
    "from sklearn.model_selection import train_test_split\n",
    "from sklearn.metrics import classification_report\n",
    "\n",
    "# we will be using logistic regression (class) and decision tree (class)\n",
    "estimators = {\n",
    "    'Logistic Regression' : LogisticRegression(),\n",
    "    'Decision Tree': DecisionTreeClassifier()}"
   ]
  },
  {
   "cell_type": "code",
   "execution_count": 27,
   "metadata": {
    "id": "PlVqzBc2pU7w"
   },
   "outputs": [],
   "source": [
    "'''calculate metrics'''\n",
    "\n",
    "def metrics(method, estimator, model, predicted, y_test):\n",
    "    \"\"\" method: base model, hyperparameter tuning\n",
    "        estimator: different models (logistic regression, decision tree)\n",
    "        model: trained model from given method and estimator\n",
    "        predicted: using model to run on test set and find predicitons\n",
    "        y_test: actual values corresponding to predictions\"\"\"\n",
    "    \n",
    "    # Find predicted and expected outcomes of model\n",
    "    expected = y_test\n",
    "    \n",
    "    # Calculate classification report corresponding to model\n",
    "    report = classification_report(y_true=expected, y_pred=predicted, output_dict=True)\n",
    "    # do not want support metric, only accurracy, precision, recall, and f1-score, so delete support from dict\n",
    "    del(report['0']['support'])\n",
    "    del(report['1']['support'])\n",
    "    return report"
   ]
  },
  {
   "cell_type": "markdown",
   "metadata": {
    "id": "6BZvShGuxyN2"
   },
   "source": [
    "### Implement ML models using k-fold cross-validation:"
   ]
  },
  {
   "cell_type": "code",
   "execution_count": 28,
   "metadata": {
    "colab": {
     "base_uri": "https://localhost:8080/"
    },
    "id": "Kznug2t8p3S9",
    "outputId": "774429e9-a113-4b62-b081-fd72f1dc6d78"
   },
   "outputs": [
    {
     "name": "stdout",
     "output_type": "stream",
     "text": [
      "Logistic Regression :\n",
      "Prediction accuracy on the test data: 65.18% \n",
      "\n",
      "Prediction accuracy on the train data: 65.63% \n",
      "\n",
      "Metrics for 0 (Good Health):  {'precision': 0.6771653543307087, 'recall': 0.6564885496183206, 'f1-score': 0.6666666666666666}\n",
      "Metrics for 1 (Poor Health):  {'precision': 0.625, 'recall': 0.646551724137931, 'f1-score': 0.635593220338983} \n",
      "\n",
      "Decision Tree :\n",
      "Prediction accuracy on the test data: 59.11% \n",
      "\n",
      "Prediction accuracy on the train data: 100.00% \n",
      "\n",
      "Metrics for 0 (Good Health):  {'precision': 0.625, 'recall': 0.5725190839694656, 'f1-score': 0.5976095617529881}\n",
      "Metrics for 1 (Poor Health):  {'precision': 0.5590551181102362, 'recall': 0.6120689655172413, 'f1-score': 0.5843621399176954} \n",
      "\n"
     ]
    }
   ],
   "source": [
    "def base_models(estimators, df, clf=True):\n",
    "    '''initializes and runs the models and determines accuracy and other metrics'''\n",
    "    \n",
    "    if clf:\n",
    "      # the features do not include the binned child outcome column nor the normal child outcome column \n",
    "      features = df.drop(columns = [\"CHILD_OUTCOME_BIN\", 'CHILD_OUTCOME'], axis = 1) \n",
    "      # target is the child outcome bin for logistic regression and decision tree\n",
    "      target = df[\"CHILD_OUTCOME_BIN\"]\n",
    "    else: # target is continuous child outcome\n",
    "      features = linreg_df.drop(columns = ['CHILD_OUTCOME'], axis = 1) \n",
    "      target = linreg_df[\"CHILD_OUTCOME\"]\n",
    "\n",
    "    # for each of the models: \n",
    "    for estimator_name, estimator_object in estimators.items():\n",
    "        # split data into training and testing sets\n",
    "        X_train, X_test, y_train, y_test = train_test_split(features, target, random_state=3000)\n",
    "\n",
    "        # select a classifier and create the model by fitting the training data\n",
    "        model = estimator_object.fit(X=X_train, y=y_train)\n",
    "\n",
    "        # predict outcome\n",
    "        predicted = model.predict(X=X_test)\n",
    "        print(estimator_name, \":\")\n",
    "\n",
    "\n",
    "        # report performance\n",
    "        if clf:\n",
    "          # prediction accuracy\n",
    "          accuracy_test = model.score(X_test, y_test)\n",
    "          accuracy_train = model.score(X_train, y_train)\n",
    "          # round the accuracies \n",
    "          print(\"Prediction accuracy on the test data:\", f\"{accuracy_test:.2%}\", \"\\n\")\n",
    "          print(\"Prediction accuracy on the train data:\", f\"{accuracy_train:.2%}\", \"\\n\")\n",
    "          # run the metric function on this model, and output metrics \n",
    "          metric_dict = metrics('Base', estimator_name, model, predicted, y_test)\n",
    "          print('Metrics for 0 (Good Health): ', metric_dict['0'])\n",
    "          print('Metrics for 1 (Poor Health): ', metric_dict['1'], '\\n')\n",
    "        else:\n",
    "          # Report model coefficients\n",
    "          print(\"Coefficients: \\n\", model.coef_)\n",
    "          # The mean squared error\n",
    "          print(\"Mean squared error: %.2f\" % mean_squared_error(y_test, predicted))\n",
    "          # The coefficient of determination: 1 is perfect prediction\n",
    "          print(\"Coefficient of determination (R^2): %.2f\" % r2_score(y_test, predicted))\n",
    "\n",
    "\n",
    "base_models(estimators, final_df)"
   ]
  },
  {
   "cell_type": "code",
   "execution_count": 29,
   "metadata": {
    "colab": {
     "base_uri": "https://localhost:8080/"
    },
    "id": "ddP1YyvzySEK",
    "outputId": "07933db2-4886-45f2-e592-4ba36d6d2429"
   },
   "outputs": [
    {
     "name": "stdout",
     "output_type": "stream",
     "text": [
      "Logistic Regression: \n",
      "\tmean accuracy=60.16% standard deviation=6.47%\n",
      "\n",
      "Decision Tree: \n",
      "\tmean accuracy=56.58% standard deviation=7.90%\n",
      "\n"
     ]
    }
   ],
   "source": [
    "# import k fold and cross validation scores needed for k-fold cross validation \n",
    "from sklearn.model_selection import KFold \n",
    "from sklearn.model_selection import cross_val_score\n",
    "\n",
    "# produce the different classifiers, then can compare results and see which has the greatest accuracy \n",
    "def pre_featselect_k_fold_cv(estimators, clf=True):\n",
    "    '''performs k-fold cross validation'''\n",
    "\n",
    "    if clf:\n",
    "      # features are everything but the binned or regular child outcome columns\n",
    "      features = final_df.drop(columns=[\"CHILD_OUTCOME_BIN\", 'CHILD_OUTCOME'], axis = 1) \n",
    "      # target for the logistic regression and decision tree models are the binned child outcomes\n",
    "      target = final_df[\"CHILD_OUTCOME_BIN\"]\n",
    "    else: # target is continuous child outcome\n",
    "      features = linreg_df.drop(columns = ['CHILD_OUTCOME'], axis = 1) \n",
    "      target = linreg_df[\"CHILD_OUTCOME\"]\n",
    "\n",
    "    # for each estimator \n",
    "    for estimator_name, estimator_object in estimators.items(): \n",
    "        # run k-fold cross validation \n",
    "        kfold = KFold(n_splits = 20, random_state = 3000, shuffle = True)\n",
    "        \n",
    "        if clf:\n",
    "          # calculate the scores for the k-fold estimators \n",
    "          scores = cross_val_score(estimator = estimator_object, X=features, y=target, cv=kfold)\n",
    "          # print the accurracies and standard devs for each of the models\n",
    "          print(estimator_name + \": \\n\\t\" + f\"mean accuracy={scores.mean():.2%} \" + f\"standard deviation={scores.std():.2%}\" + \"\\n\")\n",
    "        else:\n",
    "          # if regression, accuracy comes from r2 calculation\n",
    "          scores = cross_val_score(estimator = estimator_object, X=features, y=target,\n",
    "                             scoring='r2', cv=kfold)\n",
    "          print(estimator_name + \": \\n\\t\" + f\"mean r2={scores.mean():.2} \" + f\"standard deviation={scores.std():.2}\" + \"\\n\")\n",
    "\n",
    "pre_featselect_k_fold_cv(estimators)"
   ]
  },
  {
   "cell_type": "markdown",
   "metadata": {
    "id": "tv536pqgx74u"
   },
   "source": [
    "### Feature selection for models:"
   ]
  },
  {
   "cell_type": "code",
   "execution_count": 30,
   "metadata": {
    "colab": {
     "base_uri": "https://localhost:8080/"
    },
    "id": "BQjyD1Suywfl",
    "outputId": "315db080-62fc-4334-ceb9-0980a7c1396a"
   },
   "outputs": [
    {
     "name": "stdout",
     "output_type": "stream",
     "text": [
      "Selected features after selection:\n",
      "\tMOMRACE_S_1A1\n",
      "\tHHAGE1_ADULTSA1\n",
      "\tHHAGE1CONTROTHERADULTA1\n",
      "\tHHAGE1_ALLA1\n",
      "\tMRELATETYPEA1\n",
      "\tTOTEARNEDINCOMEA1\n",
      "\tTOTSPOUSEINCOMEA1\n",
      "\tTOTOTHHHMEMINCOMEA1\n",
      "\tTOTGOVTINCOMEA1\n",
      "\tTOTALLOTHERINCOMEA1\n",
      "\tCOMBINEDINCOMEA1\n",
      "\tOPIOIDSPYA1\n",
      "\tMOMPREGA1\n",
      "\tMSATISFACTIONA1\n",
      "\tMPHQ8A1\n",
      "\tMSLEEPA1\n",
      "\tMPARENTINGSTRESSA1\n",
      "\tMHAPPYA1\n",
      "\tMPERCEIVEDSTRESSA1\n",
      "\tLMCORTISOLA1\n"
     ]
    }
   ],
   "source": [
    "# import models to do feature selection \n",
    "from sklearn.feature_selection import RFE\n",
    "from sklearn.tree import DecisionTreeRegressor\n",
    "from sklearn.feature_selection import SelectFromModel\n",
    "\n",
    "# features are everything but the binned or regular child outcome columns\n",
    "features = final_df.drop(columns = [\"CHILD_OUTCOME\", 'CHILD_OUTCOME_BIN'], axis = 1) \n",
    "\n",
    "# target for the logistic regression and decision tree models are the binned child outcomes\n",
    "target = final_df[\"CHILD_OUTCOME_BIN\"]\n",
    "\n",
    "# set train/test split \n",
    "X_train, X_test, y_train, y_test = train_test_split(features, target, random_state=3000)\n",
    "\n",
    "\n",
    "def feature_selection(clf=True):\n",
    "  '''selects the number of features wanted''' \n",
    "\n",
    "  # list to hold the features that will be selected  \n",
    "  features_after = []\n",
    "\n",
    "  if clf:\n",
    "    # run rfe to iteratively select 20 best features\n",
    "    select = RFE(DecisionTreeRegressor(random_state = 3000), n_features_to_select = 20)\n",
    "  else:\n",
    "    select = SelectFromModel(LinearRegression(), max_features = len(linreg_vars)-1)\n",
    "  \n",
    "  # fit the selector to the training data\n",
    "  select.fit(X_train, y_train)\n",
    "  # transform training and testing sets so only the selected features are retained\n",
    "  X_train_selected = select.transform(X_train)\n",
    "  X_test_selected = select.transform(X_test)\n",
    "  # returns a Boolean mask of selected features\n",
    "  bools = select.get_support()\n",
    "  cols = features.loc[: ,bools].columns\n",
    "\n",
    "  # print out the features that will be used & store them in list to return\n",
    "  print(\"Selected features after selection:\")\n",
    "  for col in cols:\n",
    "      features_after.append(col)\n",
    "        \n",
    "      print(\"\\t\"+col)\n",
    "  return features_after \n",
    "\n",
    "features_after = feature_selection()"
   ]
  },
  {
   "cell_type": "code",
   "execution_count": 31,
   "metadata": {
    "colab": {
     "base_uri": "https://localhost:8080/"
    },
    "id": "uWW4-mJpzcfZ",
    "outputId": "812023df-487c-48e9-96f9-f4c336489da9"
   },
   "outputs": [
    {
     "name": "stdout",
     "output_type": "stream",
     "text": [
      "Logistic Regression: \n",
      "\tmean accuracy=59.55% standard deviation=5.90%\n",
      "\n",
      "Decision Tree: \n",
      "\tmean accuracy=56.48% standard deviation=4.99%\n",
      "\n"
     ]
    }
   ],
   "source": [
    "#run kFold again to see how accuracy improved after feature selection\n",
    "\n",
    "# produce the different classifiers, then can compare results and see which has the greatest accuracy \n",
    "def post_featselect_k_fold_cv(estimators, df, features, clf=True):\n",
    "    '''performs k-fold cross validation'''\n",
    "\n",
    "    # features are the prunned list from RFE above\n",
    "    features = df[features]\n",
    "\n",
    "    if clf:\n",
    "      # target is the binned columns for logistic regression and decision tree\n",
    "      target = df[\"CHILD_OUTCOME_BIN\"]\n",
    "    else: # target is continuous child outcome\n",
    "      target = df[\"CHILD_OUTCOME\"]\n",
    "    \n",
    "    # for each estimator\n",
    "    for estimator_name, estimator_object in estimators.items(): \n",
    "        # run k-fold cross validation \n",
    "        kfold = KFold(n_splits = 20, random_state = 3000, shuffle = True)\n",
    "\n",
    "        if clf:\n",
    "          # calculate the scores for the k-fold estimators \n",
    "          scores = cross_val_score(estimator = estimator_object, X=features, y=target, cv=kfold)\n",
    "          # print the accurracies and standard devs for each of the models\n",
    "          print(estimator_name + \": \\n\\t\" + f\"mean accuracy={scores.mean():.2%} \" + f\"standard deviation={scores.std():.2%}\" + \"\\n\")\n",
    "        else:\n",
    "          # if regression, accuracy comes from r2 calculation\n",
    "          scores = cross_val_score(estimator = estimator_object, X=features, y=target,\n",
    "                             scoring='r2', cv=kfold)\n",
    "          print(estimator_name + \": \\n\\t\" + f\"mean r2={scores.mean():.2} \" + f\"standard deviation={scores.std():.2}\" + \"\\n\")\n",
    "\n",
    "\n",
    "post_featselect_k_fold_cv(estimators, final_df, features_after)"
   ]
  },
  {
   "cell_type": "markdown",
   "metadata": {
    "id": "EFIWkgsAyDSk"
   },
   "source": [
    "### Hyperparameter tuning:"
   ]
  },
  {
   "cell_type": "code",
   "execution_count": 32,
   "metadata": {
    "id": "FBl3iPOyJJjb"
   },
   "outputs": [],
   "source": [
    "# import grid search from sklearn \n",
    "from sklearn.model_selection import GridSearchCV\n",
    "from sklearn import tree\n",
    "import graphviz \n",
    "\n",
    "def post_featselect_grid_search(estimators_dict, estimator, df, features, param_grid, clf=True):\n",
    "    \"\"\" estimator: model to test with (logistic regression, svm, guassian nb, decision tree)\n",
    "        df: dataframe to run models on\n",
    "        features: list of feature colums from df\n",
    "        param_grid: dictionary of different parameters and values to test and compare\"\"\"\n",
    "\n",
    "    # use smaller list of features from feature selection\n",
    "    features_after_selection = df[features] \n",
    "\n",
    "    if clf:\n",
    "      # target for logistic regression and decision tree is the binned outcome\n",
    "      target = df[\"CHILD_OUTCOME_BIN\"]\n",
    "    else: # target is continuous child outcome\n",
    "      target = df['CHILD_OUTCOME']\n",
    "    \n",
    "    # Use grid search to find best parameters\n",
    "    method = estimators_dict[estimator]\n",
    "    grid_search = GridSearchCV(method, param_grid, cv=5)\n",
    "    \n",
    "    # Split into train and test sets, fit with grid search\n",
    "    X_train, X_test, y_train, y_test = train_test_split(features_after_selection, target, random_state = 3000)\n",
    "    model = grid_search.fit(X=X_train, y=y_train)\n",
    "    \n",
    "    # Print resulting best parameters and evaluation metrics\n",
    "    print(\"Best parameters: \", grid_search.best_params_)\n",
    "    \n",
    "    print(\"Test set score: \", grid_search.score(X_test, y_test)) \n",
    "    print(\"Training set score: \", grid_search.score(X_train, y_train))\n",
    "    \n",
    "    # Evaluate performance metric\n",
    "    predicted = grid_search.predict(X=X_test)\n",
    "\n",
    "    if clf:\n",
    "      metric_dict = metrics('Cross-Validated GridSearch', estimator, model, predicted, y_test)\n",
    "      print('Metrics for 0 (Good Health): ', metric_dict['0'])\n",
    "      print('Metrics for 1 (Poor Health): ', metric_dict['1'], '\\n')\n",
    "    else:\n",
    "      # The mean squared error\n",
    "      print(\"Mean squared error: %.2f\" % mean_squared_error(y_test, predicted))\n",
    "      # The coefficient of determination: 1 is perfect prediction\n",
    "      print(\"Coefficient of determination (R^2): %.2f\" % r2_score(y_test, predicted))\n",
    "\n",
    "    best = grid_search.best_params_\n",
    "\n",
    "    # create visualization of decision tree\n",
    "    if estimator == \"Decision Tree\":\n",
    "      t = DecisionTreeClassifier(criterion='entropy', max_depth=best['max_depth'], max_features=best['max_features'], max_leaf_nodes=best['max_leaf_nodes'], min_samples_split=best['min_samples_split'])\n",
    "      model_t = t.fit(X=X_train, y=y_train)\n",
    "      dot_data = tree.export_graphviz(model_t, out_file=None,\n",
    "                      feature_names=features_after_selection.columns,\n",
    "                      class_names=['Good Health', 'Poor Health'],\n",
    "                      filled=True, rounded=True,\n",
    "                      special_characters=True)\n",
    "      graph = graphviz.Source(dot_data)  \n",
    "      # return viz & score\n",
    "      return graph, grid_search.score(X_test, y_test)   \n",
    "\n",
    "    return grid_search.score(X_test, y_test)   "
   ]
  },
  {
   "cell_type": "code",
   "execution_count": 33,
   "metadata": {
    "colab": {
     "base_uri": "https://localhost:8080/"
    },
    "id": "nP3I_IH0SeeQ",
    "outputId": "695c1860-81f7-4976-977c-9e61ad66ce32"
   },
   "outputs": [
    {
     "name": "stdout",
     "output_type": "stream",
     "text": [
      "Best parameters:  {'C': 0.1, 'max_iter': 100, 'penalty': 'l2', 'solver': 'lbfgs'}\n",
      "Test set score:  0.6558704453441295\n",
      "Training set score:  0.6468200270635994\n",
      "Metrics for 0 (Good Health):  {'precision': 0.6825396825396826, 'recall': 0.6564885496183206, 'f1-score': 0.669260700389105}\n",
      "Metrics for 1 (Poor Health):  {'precision': 0.628099173553719, 'recall': 0.6551724137931034, 'f1-score': 0.6413502109704642} \n",
      "\n"
     ]
    },
    {
     "data": {
      "text/plain": [
       "0.6558704453441295"
      ]
     },
     "execution_count": 33,
     "metadata": {},
     "output_type": "execute_result"
    }
   ],
   "source": [
    "# Hyperparameters for Logistic Regression\n",
    "param_grid = {'solver': ['newton-cg', 'lbfgs', 'liblinear', 'sag', 'saga'], \n",
    "              'C': [0.005, 0.01, 0.05, 0.1, 0.5, 1, 5, 10, 50],\n",
    "              'max_iter' : [100, 1000, 2500],\n",
    "              'penalty': ['l1', 'l2']} \n",
    "log_reg_post_featselect_grid_search = post_featselect_grid_search(estimators, 'Logistic Regression', final_df, features_after, param_grid)\n",
    "log_reg_post_featselect_grid_search"
   ]
  },
  {
   "cell_type": "code",
   "execution_count": 34,
   "metadata": {
    "colab": {
     "base_uri": "https://localhost:8080/",
     "height": 705
    },
    "id": "PLUojSLAScux",
    "outputId": "70cf808c-f984-4a96-dd58-7a175bf50dc6"
   },
   "outputs": [
    {
     "name": "stdout",
     "output_type": "stream",
     "text": [
      "Best parameters:  {'criterion': 'gini', 'max_depth': 10, 'max_features': 10, 'max_leaf_nodes': 3, 'min_samples_split': 5}\n",
      "Test set score:  0.6072874493927125\n",
      "Training set score:  0.6495263870094723\n",
      "Metrics for 0 (Good Health):  {'precision': 0.6103896103896104, 'recall': 0.7175572519083969, 'f1-score': 0.6596491228070176}\n",
      "Metrics for 1 (Poor Health):  {'precision': 0.6021505376344086, 'recall': 0.4827586206896552, 'f1-score': 0.5358851674641149} \n",
      "\n"
     ]
    },
    {
     "data": {
      "image/svg+xml": [
       "<?xml version=\"1.0\" encoding=\"UTF-8\" standalone=\"no\"?>\n",
       "<!DOCTYPE svg PUBLIC \"-//W3C//DTD SVG 1.1//EN\"\n",
       " \"http://www.w3.org/Graphics/SVG/1.1/DTD/svg11.dtd\">\n",
       "<!-- Generated by graphviz version 2.50.0 (0)\n",
       " -->\n",
       "<!-- Title: Tree Pages: 1 -->\n",
       "<svg width=\"379pt\" height=\"314pt\"\n",
       " viewBox=\"0.00 0.00 379.00 314.00\" xmlns=\"http://www.w3.org/2000/svg\" xmlns:xlink=\"http://www.w3.org/1999/xlink\">\n",
       "<g id=\"graph0\" class=\"graph\" transform=\"scale(1 1) rotate(0) translate(4 310)\">\n",
       "<title>Tree</title>\n",
       "<polygon fill=\"white\" stroke=\"transparent\" points=\"-4,4 -4,-310 375,-310 375,4 -4,4\"/>\n",
       "<!-- 0 -->\n",
       "<g id=\"node1\" class=\"node\">\n",
       "<title>0</title>\n",
       "<path fill=\"#f8fcfe\" stroke=\"black\" d=\"M323,-306C323,-306 129,-306 129,-306 123,-306 117,-300 117,-294 117,-294 117,-235 117,-235 117,-229 123,-223 129,-223 129,-223 323,-223 323,-223 329,-223 335,-229 335,-235 335,-235 335,-294 335,-294 335,-300 329,-306 323,-306\"/>\n",
       "<text text-anchor=\"start\" x=\"125\" y=\"-290.8\" font-family=\"Helvetica,sans-Serif\" font-size=\"14.00\">MPERCEIVEDSTRESSA1 ≤ 12.5</text>\n",
       "<text text-anchor=\"start\" x=\"186\" y=\"-275.8\" font-family=\"Helvetica,sans-Serif\" font-size=\"14.00\">entropy = 1.0</text>\n",
       "<text text-anchor=\"start\" x=\"181\" y=\"-260.8\" font-family=\"Helvetica,sans-Serif\" font-size=\"14.00\">samples = 739</text>\n",
       "<text text-anchor=\"start\" x=\"171.5\" y=\"-245.8\" font-family=\"Helvetica,sans-Serif\" font-size=\"14.00\">value = [363, 376]</text>\n",
       "<text text-anchor=\"start\" x=\"167\" y=\"-230.8\" font-family=\"Helvetica,sans-Serif\" font-size=\"14.00\">class = Poor Health</text>\n",
       "</g>\n",
       "<!-- 1 -->\n",
       "<g id=\"node2\" class=\"node\">\n",
       "<title>1</title>\n",
       "<path fill=\"#f6d1b7\" stroke=\"black\" d=\"M207,-187C207,-187 91,-187 91,-187 85,-187 79,-181 79,-175 79,-175 79,-116 79,-116 79,-110 85,-104 91,-104 91,-104 207,-104 207,-104 213,-104 219,-110 219,-116 219,-116 219,-175 219,-175 219,-181 213,-187 207,-187\"/>\n",
       "<text text-anchor=\"start\" x=\"88.5\" y=\"-171.8\" font-family=\"Helvetica,sans-Serif\" font-size=\"14.00\">MHAPPYA1 ≤ &#45;0.34</text>\n",
       "<text text-anchor=\"start\" x=\"101.5\" y=\"-156.8\" font-family=\"Helvetica,sans-Serif\" font-size=\"14.00\">entropy = 0.964</text>\n",
       "<text text-anchor=\"start\" x=\"104\" y=\"-141.8\" font-family=\"Helvetica,sans-Serif\" font-size=\"14.00\">samples = 465</text>\n",
       "<text text-anchor=\"start\" x=\"94.5\" y=\"-126.8\" font-family=\"Helvetica,sans-Serif\" font-size=\"14.00\">value = [284, 181]</text>\n",
       "<text text-anchor=\"start\" x=\"87\" y=\"-111.8\" font-family=\"Helvetica,sans-Serif\" font-size=\"14.00\">class = Good Health</text>\n",
       "</g>\n",
       "<!-- 0&#45;&gt;1 -->\n",
       "<g id=\"edge1\" class=\"edge\">\n",
       "<title>0&#45;&gt;1</title>\n",
       "<path fill=\"none\" stroke=\"black\" d=\"M199.29,-222.91C193.49,-214.1 187.3,-204.7 181.32,-195.61\"/>\n",
       "<polygon fill=\"black\" stroke=\"black\" points=\"184.09,-193.45 175.67,-187.02 178.24,-197.3 184.09,-193.45\"/>\n",
       "<text text-anchor=\"middle\" x=\"170.62\" y=\"-207.81\" font-family=\"Helvetica,sans-Serif\" font-size=\"14.00\">True</text>\n",
       "</g>\n",
       "<!-- 2 -->\n",
       "<g id=\"node5\" class=\"node\">\n",
       "<title>2</title>\n",
       "<path fill=\"#89c5f0\" stroke=\"black\" d=\"M359,-179.5C359,-179.5 249,-179.5 249,-179.5 243,-179.5 237,-173.5 237,-167.5 237,-167.5 237,-123.5 237,-123.5 237,-117.5 243,-111.5 249,-111.5 249,-111.5 359,-111.5 359,-111.5 365,-111.5 371,-117.5 371,-123.5 371,-123.5 371,-167.5 371,-167.5 371,-173.5 365,-179.5 359,-179.5\"/>\n",
       "<text text-anchor=\"start\" x=\"256.5\" y=\"-164.3\" font-family=\"Helvetica,sans-Serif\" font-size=\"14.00\">entropy = 0.867</text>\n",
       "<text text-anchor=\"start\" x=\"259\" y=\"-149.3\" font-family=\"Helvetica,sans-Serif\" font-size=\"14.00\">samples = 274</text>\n",
       "<text text-anchor=\"start\" x=\"253.5\" y=\"-134.3\" font-family=\"Helvetica,sans-Serif\" font-size=\"14.00\">value = [79, 195]</text>\n",
       "<text text-anchor=\"start\" x=\"245\" y=\"-119.3\" font-family=\"Helvetica,sans-Serif\" font-size=\"14.00\">class = Poor Health</text>\n",
       "</g>\n",
       "<!-- 0&#45;&gt;2 -->\n",
       "<g id=\"edge4\" class=\"edge\">\n",
       "<title>0&#45;&gt;2</title>\n",
       "<path fill=\"none\" stroke=\"black\" d=\"M253.06,-222.91C260.57,-211.65 268.72,-199.42 276.26,-188.11\"/>\n",
       "<polygon fill=\"black\" stroke=\"black\" points=\"279.25,-189.93 281.89,-179.67 273.43,-186.05 279.25,-189.93\"/>\n",
       "<text text-anchor=\"middle\" x=\"286.79\" y=\"-200.48\" font-family=\"Helvetica,sans-Serif\" font-size=\"14.00\">False</text>\n",
       "</g>\n",
       "<!-- 3 -->\n",
       "<g id=\"node3\" class=\"node\">\n",
       "<title>3</title>\n",
       "<path fill=\"#e6843e\" stroke=\"black\" d=\"M128,-68C128,-68 12,-68 12,-68 6,-68 0,-62 0,-56 0,-56 0,-12 0,-12 0,-6 6,0 12,0 12,0 128,0 128,0 134,0 140,-6 140,-12 140,-12 140,-56 140,-56 140,-62 134,-68 128,-68\"/>\n",
       "<text text-anchor=\"start\" x=\"22.5\" y=\"-52.8\" font-family=\"Helvetica,sans-Serif\" font-size=\"14.00\">entropy = 0.169</text>\n",
       "<text text-anchor=\"start\" x=\"29\" y=\"-37.8\" font-family=\"Helvetica,sans-Serif\" font-size=\"14.00\">samples = 40</text>\n",
       "<text text-anchor=\"start\" x=\"27\" y=\"-22.8\" font-family=\"Helvetica,sans-Serif\" font-size=\"14.00\">value = [39, 1]</text>\n",
       "<text text-anchor=\"start\" x=\"8\" y=\"-7.8\" font-family=\"Helvetica,sans-Serif\" font-size=\"14.00\">class = Good Health</text>\n",
       "</g>\n",
       "<!-- 1&#45;&gt;3 -->\n",
       "<g id=\"edge2\" class=\"edge\">\n",
       "<title>1&#45;&gt;3</title>\n",
       "<path fill=\"none\" stroke=\"black\" d=\"M119.58,-103.73C113.2,-94.88 106.44,-85.51 100.03,-76.63\"/>\n",
       "<polygon fill=\"black\" stroke=\"black\" points=\"102.71,-74.36 94.02,-68.3 97.04,-78.46 102.71,-74.36\"/>\n",
       "</g>\n",
       "<!-- 4 -->\n",
       "<g id=\"node4\" class=\"node\">\n",
       "<title>4</title>\n",
       "<path fill=\"#f8deca\" stroke=\"black\" d=\"M286,-68C286,-68 170,-68 170,-68 164,-68 158,-62 158,-56 158,-56 158,-12 158,-12 158,-6 164,0 170,0 170,0 286,0 286,0 292,0 298,-6 298,-12 298,-12 298,-56 298,-56 298,-62 292,-68 286,-68\"/>\n",
       "<text text-anchor=\"start\" x=\"180.5\" y=\"-52.8\" font-family=\"Helvetica,sans-Serif\" font-size=\"14.00\">entropy = 0.983</text>\n",
       "<text text-anchor=\"start\" x=\"183\" y=\"-37.8\" font-family=\"Helvetica,sans-Serif\" font-size=\"14.00\">samples = 425</text>\n",
       "<text text-anchor=\"start\" x=\"173.5\" y=\"-22.8\" font-family=\"Helvetica,sans-Serif\" font-size=\"14.00\">value = [245, 180]</text>\n",
       "<text text-anchor=\"start\" x=\"166\" y=\"-7.8\" font-family=\"Helvetica,sans-Serif\" font-size=\"14.00\">class = Good Health</text>\n",
       "</g>\n",
       "<!-- 1&#45;&gt;4 -->\n",
       "<g id=\"edge3\" class=\"edge\">\n",
       "<title>1&#45;&gt;4</title>\n",
       "<path fill=\"none\" stroke=\"black\" d=\"M178.42,-103.73C184.8,-94.88 191.56,-85.51 197.97,-76.63\"/>\n",
       "<polygon fill=\"black\" stroke=\"black\" points=\"200.96,-78.46 203.98,-68.3 195.29,-74.36 200.96,-78.46\"/>\n",
       "</g>\n",
       "</g>\n",
       "</svg>\n"
      ],
      "text/plain": [
       "<graphviz.sources.Source at 0x7fa6d4fad100>"
      ]
     },
     "execution_count": 34,
     "metadata": {},
     "output_type": "execute_result"
    }
   ],
   "source": [
    "# Hyperparameters for Decision Tree\n",
    "param_grid = {'criterion':['gini', 'entropy'], \n",
    "              'max_depth':[4, 5, 6, 7, 8, 9, 10, 100, 120], \n",
    "              'min_samples_split': [2, 5, 8, 10, 50, 100],  \n",
    "              'max_leaf_nodes': [2, 3, 4, 5 , 10, 20], \n",
    "              'max_features': [10, 2]}\n",
    "dtree_post_featselect_grid_search = post_featselect_grid_search(estimators, 'Decision Tree', final_df, features_after, param_grid)\n",
    "dtree_post_featselect_grid_search[0]"
   ]
  },
  {
   "cell_type": "code",
   "execution_count": 35,
   "metadata": {
    "id": "uU5GiTwCHnex"
   },
   "outputs": [],
   "source": [
    "# import grid search from sklearn \n",
    "from sklearn.model_selection import GridSearchCV\n",
    "\n",
    "# perform grid search on more features now: \n",
    "# will use the 36 we pruned at the start, not the set from RFE \n",
    "\n",
    "def pre_featselect_grid_search(estimators_dict, estimator, df, param_grid, clf=True):\n",
    "    \"\"\" estimator: model to test with (logistic regression, svm, guassian nb, decision tree)\n",
    "        df: dataframe to run models on\n",
    "        features: list of feature colums from df\n",
    "        param_grid: dictionary of different parameters and values to test and compare\"\"\"\n",
    "\n",
    "    if clf:\n",
    "      # use all features \n",
    "      all_features = df.drop(columns = ['CHILD_OUTCOME_BIN', 'CHILD_OUTCOME'])\n",
    "      # target for logistic regression and decision tree is the binned outcome\n",
    "      target = df[\"CHILD_OUTCOME_BIN\"]\n",
    "    else:\n",
    "      all_features = df.drop(columns = ['CHILD_OUTCOME'])\n",
    "      # target is continuous child outcome\n",
    "      target = df[\"CHILD_OUTCOME\"]\n",
    "    \n",
    "    # Use grid search to find best parameters\n",
    "    method = estimators_dict[estimator]\n",
    "    grid_search = GridSearchCV(method, param_grid, cv=5)\n",
    "    \n",
    "\n",
    "    # Split into train and test sets, fit with grid search -- for ALL features\n",
    "    X_train, X_test, y_train, y_test = train_test_split(all_features, target, random_state = 3000)\n",
    "    model = grid_search.fit(X=X_train, y=y_train)\n",
    "    \n",
    "    # Print resulting best parameters and evaluation metrics -- for selected features\n",
    "    print(\"Best parameters: \", grid_search.best_params_)\n",
    "    \n",
    "    print('For all chosen features:')\n",
    "    print(\"Test set score: \", grid_search.score(X_test, y_test)) \n",
    "    print(\"Training set score: \", grid_search.score(X_train, y_train))\n",
    "    \n",
    "    # Evaluate performance metric\n",
    "    predicted = grid_search.predict(X=X_test)\n",
    "\n",
    "    if clf:\n",
    "      metric_dict = metrics('Cross-Validated GridSearch', estimator, model, predicted, y_test)\n",
    "      print('Metrics for 0 (Good Health): ', metric_dict['0'])\n",
    "      print('Metrics for 1 (Poor Health): ', metric_dict['1'], '\\n')\n",
    "    else:\n",
    "      # The mean squared error\n",
    "      print(\"Mean squared error: %.2f\" % mean_squared_error(y_test, predicted))\n",
    "      # The coefficient of determination: 1 is perfect prediction\n",
    "      print(\"Coefficient of determination (R^2): %.2f\" % r2_score(y_test, predicted))\n",
    "\n",
    "    \n",
    "    best = grid_search.best_params_\n",
    "\n",
    "    # create visualization of decision tree\n",
    "    if estimator == \"Decision Tree\":\n",
    "      t = DecisionTreeClassifier(criterion='entropy', max_depth=best['max_depth'], max_features=best['max_features'], max_leaf_nodes=best['max_leaf_nodes'], min_samples_split=best['min_samples_split'])\n",
    "      model_t = t.fit(X=X_train, y=y_train)\n",
    "      dot_data = tree.export_graphviz(model_t, out_file=None,\n",
    "                      feature_names=all_features.columns,\n",
    "                      class_names=['Good Health', 'Poor Health'],\n",
    "                      filled=True, rounded=True,\n",
    "                      special_characters=True)\n",
    "      graph = graphviz.Source(dot_data)\n",
    "      # return vis & score\n",
    "      return graph, grid_search.score(X_test, y_test)  \n",
    "\n",
    "    return grid_search.score(X_test, y_test) "
   ]
  },
  {
   "cell_type": "code",
   "execution_count": 36,
   "metadata": {
    "id": "0YkkTCcF3gu1"
   },
   "outputs": [
    {
     "name": "stdout",
     "output_type": "stream",
     "text": [
      "Best parameters:  {'C': 0.05, 'max_iter': 1000, 'penalty': 'l2', 'solver': 'lbfgs'}\n",
      "For all chosen features:\n",
      "Test set score:  0.6680161943319838\n",
      "Training set score:  0.6508795669824087\n",
      "Metrics for 0 (Good Health):  {'precision': 0.6991869918699187, 'recall': 0.6564885496183206, 'f1-score': 0.6771653543307087}\n",
      "Metrics for 1 (Poor Health):  {'precision': 0.6370967741935484, 'recall': 0.6810344827586207, 'f1-score': 0.6583333333333333} \n",
      "\n"
     ]
    }
   ],
   "source": [
    "# Hyperparameters for Logistic Regression using all 36 features\n",
    "param_grid = {'solver': ['newton-cg', 'lbfgs', 'liblinear', 'sag', 'saga'], \n",
    "              'C': [0.005, 0.01, 0.05, 0.1, 0.5, 1, 5, 10, 50],\n",
    "              'max_iter' : [100, 1000, 2500],\n",
    "              'penalty': ['l1', 'l2']} \n",
    "log_reg_pre_featselect_grid_search = pre_featselect_grid_search(estimators, 'Logistic Regression', final_df, param_grid)"
   ]
  },
  {
   "cell_type": "code",
   "execution_count": 37,
   "metadata": {
    "colab": {
     "base_uri": "https://localhost:8080/"
    },
    "id": "2Bjjt9uoK6CN",
    "outputId": "1971486a-4e30-4e22-c203-0f1da35cedde"
   },
   "outputs": [
    {
     "name": "stdout",
     "output_type": "stream",
     "text": [
      "Best parameters:  {'criterion': 'gini', 'max_depth': 6, 'max_features': 10, 'max_leaf_nodes': 4, 'min_samples_split': 50}\n",
      "For all chosen features:\n",
      "Test set score:  0.6882591093117408\n",
      "Training set score:  0.6711772665764547\n",
      "Metrics for 0 (Good Health):  {'precision': 0.7368421052631579, 'recall': 0.6412213740458015, 'f1-score': 0.6857142857142857}\n",
      "Metrics for 1 (Poor Health):  {'precision': 0.6466165413533834, 'recall': 0.7413793103448276, 'f1-score': 0.6907630522088353} \n",
      "\n"
     ]
    },
    {
     "data": {
      "image/svg+xml": [
       "<?xml version=\"1.0\" encoding=\"UTF-8\" standalone=\"no\"?>\n",
       "<!DOCTYPE svg PUBLIC \"-//W3C//DTD SVG 1.1//EN\"\n",
       " \"http://www.w3.org/Graphics/SVG/1.1/DTD/svg11.dtd\">\n",
       "<!-- Generated by graphviz version 2.50.0 (0)\n",
       " -->\n",
       "<!-- Title: Tree Pages: 1 -->\n",
       "<svg width=\"640pt\" height=\"314pt\"\n",
       " viewBox=\"0.00 0.00 640.00 314.00\" xmlns=\"http://www.w3.org/2000/svg\" xmlns:xlink=\"http://www.w3.org/1999/xlink\">\n",
       "<g id=\"graph0\" class=\"graph\" transform=\"scale(1 1) rotate(0) translate(4 310)\">\n",
       "<title>Tree</title>\n",
       "<polygon fill=\"white\" stroke=\"transparent\" points=\"-4,4 -4,-310 636,-310 636,4 -4,4\"/>\n",
       "<!-- 0 -->\n",
       "<g id=\"node1\" class=\"node\">\n",
       "<title>0</title>\n",
       "<path fill=\"#f8fcfe\" stroke=\"black\" d=\"M383.5,-306C383.5,-306 250.5,-306 250.5,-306 244.5,-306 238.5,-300 238.5,-294 238.5,-294 238.5,-235 238.5,-235 238.5,-229 244.5,-223 250.5,-223 250.5,-223 383.5,-223 383.5,-223 389.5,-223 395.5,-229 395.5,-235 395.5,-235 395.5,-294 395.5,-294 395.5,-300 389.5,-306 383.5,-306\"/>\n",
       "<text text-anchor=\"start\" x=\"246.5\" y=\"-290.8\" font-family=\"Helvetica,sans-Serif\" font-size=\"14.00\">MBECKCATA1 ≤ 1.684</text>\n",
       "<text text-anchor=\"start\" x=\"277\" y=\"-275.8\" font-family=\"Helvetica,sans-Serif\" font-size=\"14.00\">entropy = 1.0</text>\n",
       "<text text-anchor=\"start\" x=\"272\" y=\"-260.8\" font-family=\"Helvetica,sans-Serif\" font-size=\"14.00\">samples = 739</text>\n",
       "<text text-anchor=\"start\" x=\"262.5\" y=\"-245.8\" font-family=\"Helvetica,sans-Serif\" font-size=\"14.00\">value = [363, 376]</text>\n",
       "<text text-anchor=\"start\" x=\"258\" y=\"-230.8\" font-family=\"Helvetica,sans-Serif\" font-size=\"14.00\">class = Poor Health</text>\n",
       "</g>\n",
       "<!-- 1 -->\n",
       "<g id=\"node2\" class=\"node\">\n",
       "<title>1</title>\n",
       "<path fill=\"#fae9dc\" stroke=\"black\" d=\"M278,-187C278,-187 130,-187 130,-187 124,-187 118,-181 118,-175 118,-175 118,-116 118,-116 118,-110 124,-104 130,-104 130,-104 278,-104 278,-104 284,-104 290,-110 290,-116 290,-116 290,-175 290,-175 290,-181 284,-187 278,-187\"/>\n",
       "<text text-anchor=\"start\" x=\"126\" y=\"-171.8\" font-family=\"Helvetica,sans-Serif\" font-size=\"14.00\">LMCORTISOLA1 ≤ 0.918</text>\n",
       "<text text-anchor=\"start\" x=\"156.5\" y=\"-156.8\" font-family=\"Helvetica,sans-Serif\" font-size=\"14.00\">entropy = 0.993</text>\n",
       "<text text-anchor=\"start\" x=\"159\" y=\"-141.8\" font-family=\"Helvetica,sans-Serif\" font-size=\"14.00\">samples = 572</text>\n",
       "<text text-anchor=\"start\" x=\"149.5\" y=\"-126.8\" font-family=\"Helvetica,sans-Serif\" font-size=\"14.00\">value = [314, 258]</text>\n",
       "<text text-anchor=\"start\" x=\"142\" y=\"-111.8\" font-family=\"Helvetica,sans-Serif\" font-size=\"14.00\">class = Good Health</text>\n",
       "</g>\n",
       "<!-- 0&#45;&gt;1 -->\n",
       "<g id=\"edge1\" class=\"edge\">\n",
       "<title>0&#45;&gt;1</title>\n",
       "<path fill=\"none\" stroke=\"black\" d=\"M277.8,-222.91C268.94,-213.74 259.46,-203.93 250.35,-194.49\"/>\n",
       "<polygon fill=\"black\" stroke=\"black\" points=\"252.6,-191.78 243.14,-187.02 247.57,-196.65 252.6,-191.78\"/>\n",
       "<text text-anchor=\"middle\" x=\"242.7\" y=\"-208.32\" font-family=\"Helvetica,sans-Serif\" font-size=\"14.00\">True</text>\n",
       "</g>\n",
       "<!-- 2 -->\n",
       "<g id=\"node5\" class=\"node\">\n",
       "<title>2</title>\n",
       "<path fill=\"#8bc6f0\" stroke=\"black\" d=\"M541.5,-187C541.5,-187 320.5,-187 320.5,-187 314.5,-187 308.5,-181 308.5,-175 308.5,-175 308.5,-116 308.5,-116 308.5,-110 314.5,-104 320.5,-104 320.5,-104 541.5,-104 541.5,-104 547.5,-104 553.5,-110 553.5,-116 553.5,-116 553.5,-175 553.5,-175 553.5,-181 547.5,-187 541.5,-187\"/>\n",
       "<text text-anchor=\"start\" x=\"316.5\" y=\"-171.8\" font-family=\"Helvetica,sans-Serif\" font-size=\"14.00\">TOTOTHHHMEMINCOMEA1 ≤ 450.0</text>\n",
       "<text text-anchor=\"start\" x=\"383.5\" y=\"-156.8\" font-family=\"Helvetica,sans-Serif\" font-size=\"14.00\">entropy = 0.873</text>\n",
       "<text text-anchor=\"start\" x=\"386\" y=\"-141.8\" font-family=\"Helvetica,sans-Serif\" font-size=\"14.00\">samples = 167</text>\n",
       "<text text-anchor=\"start\" x=\"380.5\" y=\"-126.8\" font-family=\"Helvetica,sans-Serif\" font-size=\"14.00\">value = [49, 118]</text>\n",
       "<text text-anchor=\"start\" x=\"372\" y=\"-111.8\" font-family=\"Helvetica,sans-Serif\" font-size=\"14.00\">class = Poor Health</text>\n",
       "</g>\n",
       "<!-- 0&#45;&gt;2 -->\n",
       "<g id=\"edge4\" class=\"edge\">\n",
       "<title>0&#45;&gt;2</title>\n",
       "<path fill=\"none\" stroke=\"black\" d=\"M356.55,-222.91C365.57,-213.65 375.24,-203.73 384.51,-194.21\"/>\n",
       "<polygon fill=\"black\" stroke=\"black\" points=\"387.05,-196.63 391.52,-187.02 382.03,-191.74 387.05,-196.63\"/>\n",
       "<text text-anchor=\"middle\" x=\"391.84\" y=\"-208.32\" font-family=\"Helvetica,sans-Serif\" font-size=\"14.00\">False</text>\n",
       "</g>\n",
       "<!-- 5 -->\n",
       "<g id=\"node3\" class=\"node\">\n",
       "<title>5</title>\n",
       "<path fill=\"#99ccf2\" stroke=\"black\" d=\"M122,-68C122,-68 12,-68 12,-68 6,-68 0,-62 0,-56 0,-56 0,-12 0,-12 0,-6 6,0 12,0 12,0 122,0 122,0 128,0 134,-6 134,-12 134,-12 134,-56 134,-56 134,-62 128,-68 122,-68\"/>\n",
       "<text text-anchor=\"start\" x=\"19.5\" y=\"-52.8\" font-family=\"Helvetica,sans-Serif\" font-size=\"14.00\">entropy = 0.911</text>\n",
       "<text text-anchor=\"start\" x=\"26\" y=\"-37.8\" font-family=\"Helvetica,sans-Serif\" font-size=\"14.00\">samples = 46</text>\n",
       "<text text-anchor=\"start\" x=\"20\" y=\"-22.8\" font-family=\"Helvetica,sans-Serif\" font-size=\"14.00\">value = [15, 31]</text>\n",
       "<text text-anchor=\"start\" x=\"8\" y=\"-7.8\" font-family=\"Helvetica,sans-Serif\" font-size=\"14.00\">class = Poor Health</text>\n",
       "</g>\n",
       "<!-- 1&#45;&gt;5 -->\n",
       "<g id=\"edge2\" class=\"edge\">\n",
       "<title>1&#45;&gt;5</title>\n",
       "<path fill=\"none\" stroke=\"black\" d=\"M152.99,-103.73C141.12,-94.24 128.5,-84.16 116.69,-74.72\"/>\n",
       "<polygon fill=\"black\" stroke=\"black\" points=\"118.66,-71.81 108.66,-68.3 114.29,-77.28 118.66,-71.81\"/>\n",
       "</g>\n",
       "<!-- 6 -->\n",
       "<g id=\"node4\" class=\"node\">\n",
       "<title>6</title>\n",
       "<path fill=\"#f9e1cf\" stroke=\"black\" d=\"M280,-68C280,-68 164,-68 164,-68 158,-68 152,-62 152,-56 152,-56 152,-12 152,-12 152,-6 158,0 164,0 164,0 280,0 280,0 286,0 292,-6 292,-12 292,-12 292,-56 292,-56 292,-62 286,-68 280,-68\"/>\n",
       "<text text-anchor=\"start\" x=\"174.5\" y=\"-52.8\" font-family=\"Helvetica,sans-Serif\" font-size=\"14.00\">entropy = 0.986</text>\n",
       "<text text-anchor=\"start\" x=\"177\" y=\"-37.8\" font-family=\"Helvetica,sans-Serif\" font-size=\"14.00\">samples = 526</text>\n",
       "<text text-anchor=\"start\" x=\"167.5\" y=\"-22.8\" font-family=\"Helvetica,sans-Serif\" font-size=\"14.00\">value = [299, 227]</text>\n",
       "<text text-anchor=\"start\" x=\"160\" y=\"-7.8\" font-family=\"Helvetica,sans-Serif\" font-size=\"14.00\">class = Good Health</text>\n",
       "</g>\n",
       "<!-- 1&#45;&gt;6 -->\n",
       "<g id=\"edge3\" class=\"edge\">\n",
       "<title>1&#45;&gt;6</title>\n",
       "<path fill=\"none\" stroke=\"black\" d=\"M210.7,-103.73C212.07,-95.43 213.51,-86.67 214.88,-78.28\"/>\n",
       "<polygon fill=\"black\" stroke=\"black\" points=\"218.36,-78.73 216.53,-68.3 211.45,-77.6 218.36,-78.73\"/>\n",
       "</g>\n",
       "<!-- 3 -->\n",
       "<g id=\"node6\" class=\"node\">\n",
       "<title>3</title>\n",
       "<path fill=\"#a5d3f3\" stroke=\"black\" d=\"M468,-68C468,-68 358,-68 358,-68 352,-68 346,-62 346,-56 346,-56 346,-12 346,-12 346,-6 352,0 358,0 358,0 468,0 468,0 474,0 480,-6 480,-12 480,-12 480,-56 480,-56 480,-62 474,-68 468,-68\"/>\n",
       "<text text-anchor=\"start\" x=\"365.5\" y=\"-52.8\" font-family=\"Helvetica,sans-Serif\" font-size=\"14.00\">entropy = 0.937</text>\n",
       "<text text-anchor=\"start\" x=\"368\" y=\"-37.8\" font-family=\"Helvetica,sans-Serif\" font-size=\"14.00\">samples = 130</text>\n",
       "<text text-anchor=\"start\" x=\"366\" y=\"-22.8\" font-family=\"Helvetica,sans-Serif\" font-size=\"14.00\">value = [46, 84]</text>\n",
       "<text text-anchor=\"start\" x=\"354\" y=\"-7.8\" font-family=\"Helvetica,sans-Serif\" font-size=\"14.00\">class = Poor Health</text>\n",
       "</g>\n",
       "<!-- 2&#45;&gt;3 -->\n",
       "<g id=\"edge5\" class=\"edge\">\n",
       "<title>2&#45;&gt;3</title>\n",
       "<path fill=\"none\" stroke=\"black\" d=\"M424.3,-103.73C422.93,-95.43 421.49,-86.67 420.12,-78.28\"/>\n",
       "<polygon fill=\"black\" stroke=\"black\" points=\"423.55,-77.6 418.47,-68.3 416.64,-78.73 423.55,-77.6\"/>\n",
       "</g>\n",
       "<!-- 4 -->\n",
       "<g id=\"node7\" class=\"node\">\n",
       "<title>4</title>\n",
       "<path fill=\"#4aa6e7\" stroke=\"black\" d=\"M620,-68C620,-68 510,-68 510,-68 504,-68 498,-62 498,-56 498,-56 498,-12 498,-12 498,-6 504,0 510,0 510,0 620,0 620,0 626,0 632,-6 632,-12 632,-12 632,-56 632,-56 632,-62 626,-68 620,-68\"/>\n",
       "<text text-anchor=\"start\" x=\"517.5\" y=\"-52.8\" font-family=\"Helvetica,sans-Serif\" font-size=\"14.00\">entropy = 0.406</text>\n",
       "<text text-anchor=\"start\" x=\"524\" y=\"-37.8\" font-family=\"Helvetica,sans-Serif\" font-size=\"14.00\">samples = 37</text>\n",
       "<text text-anchor=\"start\" x=\"522\" y=\"-22.8\" font-family=\"Helvetica,sans-Serif\" font-size=\"14.00\">value = [3, 34]</text>\n",
       "<text text-anchor=\"start\" x=\"506\" y=\"-7.8\" font-family=\"Helvetica,sans-Serif\" font-size=\"14.00\">class = Poor Health</text>\n",
       "</g>\n",
       "<!-- 2&#45;&gt;4 -->\n",
       "<g id=\"edge6\" class=\"edge\">\n",
       "<title>2&#45;&gt;4</title>\n",
       "<path fill=\"none\" stroke=\"black\" d=\"M480.9,-103.73C492.5,-94.24 504.85,-84.16 516.4,-74.72\"/>\n",
       "<polygon fill=\"black\" stroke=\"black\" points=\"518.72,-77.34 524.25,-68.3 514.29,-71.92 518.72,-77.34\"/>\n",
       "</g>\n",
       "</g>\n",
       "</svg>\n"
      ],
      "text/plain": [
       "<graphviz.sources.Source at 0x7fa6d1607fd0>"
      ]
     },
     "execution_count": 37,
     "metadata": {},
     "output_type": "execute_result"
    }
   ],
   "source": [
    "# Hyperparameters for Decision Tree using all 36 features\n",
    "param_grid = {'criterion':['gini', 'entropy'], \n",
    "              'max_depth':[4, 5, 6, 7, 8, 9, 10, 100, 120], \n",
    "              'min_samples_split': [2, 5, 8, 10, 50, 100],  \n",
    "              'max_leaf_nodes': [2, 3, 4, 5 , 10, 20], \n",
    "              'max_features': [10, 2]}\n",
    "dtree_pre_featselect_grid_search = pre_featselect_grid_search(estimators, 'Decision Tree', final_df, param_grid)\n",
    "dtree_pre_featselect_grid_search[0]"
   ]
  },
  {
   "cell_type": "markdown",
   "metadata": {
    "id": "ZuqbVKjoLkqM"
   },
   "source": [
    "Logistic Regression and Decision Tree have lower test set accuracies when using the 36 features as opposed to the 20 from feature selection (which was done before this). "
   ]
  },
  {
   "cell_type": "markdown",
   "metadata": {
    "id": "P3gC6HQt1dwb"
   },
   "source": [
    "# **Data Analysis - Multiple Regression:**"
   ]
  },
  {
   "cell_type": "markdown",
   "metadata": {
    "id": "D2SJ0KC01r9_"
   },
   "source": [
    "### Import relevant sklearn functions:"
   ]
  },
  {
   "cell_type": "code",
   "execution_count": 38,
   "metadata": {
    "id": "bxpfDHRg1p54"
   },
   "outputs": [],
   "source": [
    "from sklearn.linear_model import LinearRegression\n",
    "from sklearn.metrics import mean_squared_error, r2_score\n",
    "\n",
    "linreg_estimator = {'Linear Regression' : LinearRegression()}"
   ]
  },
  {
   "cell_type": "markdown",
   "metadata": {
    "id": "4v0mjpvB2FjS"
   },
   "source": [
    "### Isolate continuous variables for regression analysis:"
   ]
  },
  {
   "cell_type": "code",
   "execution_count": 39,
   "metadata": {
    "id": "Cwc8KHqw1gYL"
   },
   "outputs": [
    {
     "data": {
      "text/html": [
       "<div>\n",
       "<style scoped>\n",
       "    .dataframe tbody tr th:only-of-type {\n",
       "        vertical-align: middle;\n",
       "    }\n",
       "\n",
       "    .dataframe tbody tr th {\n",
       "        vertical-align: top;\n",
       "    }\n",
       "\n",
       "    .dataframe thead th {\n",
       "        text-align: right;\n",
       "    }\n",
       "</style>\n",
       "<table border=\"1\" class=\"dataframe\">\n",
       "  <thead>\n",
       "    <tr style=\"text-align: right;\">\n",
       "      <th></th>\n",
       "      <th>MPHQ8A1</th>\n",
       "      <th>MSLEEPA1</th>\n",
       "      <th>MPARENTINGSTRESSA1</th>\n",
       "      <th>MPERCEIVEDSTRESSA1</th>\n",
       "      <th>MBECKA1</th>\n",
       "      <th>HHCHAOSA1</th>\n",
       "      <th>MHOPEA1</th>\n",
       "      <th>MRELATIONQUALITYA1</th>\n",
       "      <th>LMCORTISOLA1</th>\n",
       "      <th>TOTEARNEDINCOMEA1</th>\n",
       "      <th>TOTGOVTINCOMEA1</th>\n",
       "      <th>CHILD_OUTCOME</th>\n",
       "    </tr>\n",
       "  </thead>\n",
       "  <tbody>\n",
       "    <tr>\n",
       "      <th>0</th>\n",
       "      <td>0.0</td>\n",
       "      <td>15.0</td>\n",
       "      <td>14.0</td>\n",
       "      <td>13.0</td>\n",
       "      <td>0.0</td>\n",
       "      <td>1.0</td>\n",
       "      <td>24.0</td>\n",
       "      <td>30.000000</td>\n",
       "      <td>1.791558</td>\n",
       "      <td>0.0</td>\n",
       "      <td>0.0</td>\n",
       "      <td>0.771429</td>\n",
       "    </tr>\n",
       "    <tr>\n",
       "      <th>1</th>\n",
       "      <td>1.0</td>\n",
       "      <td>10.0</td>\n",
       "      <td>14.0</td>\n",
       "      <td>10.0</td>\n",
       "      <td>1.0</td>\n",
       "      <td>1.0</td>\n",
       "      <td>21.0</td>\n",
       "      <td>26.000000</td>\n",
       "      <td>2.760010</td>\n",
       "      <td>0.0</td>\n",
       "      <td>0.0</td>\n",
       "      <td>0.876190</td>\n",
       "    </tr>\n",
       "    <tr>\n",
       "      <th>2</th>\n",
       "      <td>7.0</td>\n",
       "      <td>9.0</td>\n",
       "      <td>20.0</td>\n",
       "      <td>17.0</td>\n",
       "      <td>10.0</td>\n",
       "      <td>9.0</td>\n",
       "      <td>27.0</td>\n",
       "      <td>26.802102</td>\n",
       "      <td>-0.223144</td>\n",
       "      <td>13000.0</td>\n",
       "      <td>0.0</td>\n",
       "      <td>0.916667</td>\n",
       "    </tr>\n",
       "    <tr>\n",
       "      <th>3</th>\n",
       "      <td>0.0</td>\n",
       "      <td>15.0</td>\n",
       "      <td>16.0</td>\n",
       "      <td>6.0</td>\n",
       "      <td>3.0</td>\n",
       "      <td>1.0</td>\n",
       "      <td>31.0</td>\n",
       "      <td>29.000000</td>\n",
       "      <td>1.791558</td>\n",
       "      <td>8000.0</td>\n",
       "      <td>4500.0</td>\n",
       "      <td>0.914286</td>\n",
       "    </tr>\n",
       "    <tr>\n",
       "      <th>4</th>\n",
       "      <td>1.0</td>\n",
       "      <td>14.0</td>\n",
       "      <td>8.0</td>\n",
       "      <td>7.0</td>\n",
       "      <td>1.0</td>\n",
       "      <td>1.0</td>\n",
       "      <td>32.0</td>\n",
       "      <td>26.802102</td>\n",
       "      <td>2.442347</td>\n",
       "      <td>30000.0</td>\n",
       "      <td>0.0</td>\n",
       "      <td>0.916667</td>\n",
       "    </tr>\n",
       "  </tbody>\n",
       "</table>\n",
       "</div>"
      ],
      "text/plain": [
       "   MPHQ8A1  MSLEEPA1  MPARENTINGSTRESSA1  MPERCEIVEDSTRESSA1  MBECKA1  \\\n",
       "0      0.0      15.0                14.0                13.0      0.0   \n",
       "1      1.0      10.0                14.0                10.0      1.0   \n",
       "2      7.0       9.0                20.0                17.0     10.0   \n",
       "3      0.0      15.0                16.0                 6.0      3.0   \n",
       "4      1.0      14.0                 8.0                 7.0      1.0   \n",
       "\n",
       "   HHCHAOSA1  MHOPEA1  MRELATIONQUALITYA1  LMCORTISOLA1  TOTEARNEDINCOMEA1  \\\n",
       "0        1.0     24.0           30.000000      1.791558                0.0   \n",
       "1        1.0     21.0           26.000000      2.760010                0.0   \n",
       "2        9.0     27.0           26.802102     -0.223144            13000.0   \n",
       "3        1.0     31.0           29.000000      1.791558             8000.0   \n",
       "4        1.0     32.0           26.802102      2.442347            30000.0   \n",
       "\n",
       "   TOTGOVTINCOMEA1  CHILD_OUTCOME  \n",
       "0              0.0       0.771429  \n",
       "1              0.0       0.876190  \n",
       "2              0.0       0.916667  \n",
       "3           4500.0       0.914286  \n",
       "4              0.0       0.916667  "
      ]
     },
     "execution_count": 39,
     "metadata": {},
     "output_type": "execute_result"
    }
   ],
   "source": [
    "# Continuous measures of maternal anxiety and agency, relationship quality, and household chaos levels\n",
    "cont_anxiety = 'MBECKA1'\n",
    "hh_chaos = 'HHCHAOSA1'\n",
    "m_agency = 'MHOPEA1'\n",
    "cont_rel_quality = 'MRELATIONQUALITYA1'\n",
    "\n",
    "# Compile list of continuous variables\n",
    "linreg_vars = [depression, sleep, parenting_stress, perceived_stress, cont_anxiety, hh_chaos, m_agency,\n",
    "              cont_rel_quality, log_transformed_cortisol,\n",
    "               'TOTEARNEDINCOMEA1',\n",
    "               'TOTGOVTINCOMEA1']\n",
    "\n",
    "# Isolate DataFrame of continuous variables\n",
    "linreg_df = df_bfy.loc[:,linreg_vars]\n",
    "\n",
    "# Repeat imputation of missing values\n",
    "fillna_dict = {column : linreg_df[column].mean() for column in linreg_df.columns}\n",
    "linreg_df = linreg_df.fillna(value=fillna_dict)\n",
    "\n",
    "# Add child outcome column\n",
    "linreg_df['CHILD_OUTCOME'] = overall_c_outcome\n",
    "\n",
    "# Peek into linreg DataFrame\n",
    "linreg_df.head()"
   ]
  },
  {
   "cell_type": "code",
   "execution_count": 40,
   "metadata": {
    "id": "VBeVByRt2Dzb"
   },
   "outputs": [
    {
     "name": "stdout",
     "output_type": "stream",
     "text": [
      "Linear Regression :\n",
      "Coefficients: \n",
      " [ 8.89251915e-03 -1.74179541e-02  6.93676582e-03  4.59539239e-03\n",
      "  4.28559893e-04  1.52083080e-02  1.59863507e-03 -3.17811847e-03\n",
      "  5.34064142e-05  8.85864681e-07 -1.09511016e-06]\n",
      "Mean squared error: 0.08\n",
      "Coefficient of determination (R^2): 0.20\n"
     ]
    }
   ],
   "source": [
    "# Base model for linear regression with all continuous feats\n",
    "base_models(linreg_estimator, linreg_df, clf=False)"
   ]
  },
  {
   "cell_type": "code",
   "execution_count": 41,
   "metadata": {
    "id": "u4juCs1S2Deg"
   },
   "outputs": [
    {
     "name": "stdout",
     "output_type": "stream",
     "text": [
      "Linear Regression: \n",
      "\tmean r2=0.15 standard deviation=0.13\n",
      "\n"
     ]
    }
   ],
   "source": [
    "# Linear regression performance with cross-validation\n",
    "pre_featselect_k_fold_cv(linreg_estimator, clf=False)"
   ]
  },
  {
   "cell_type": "code",
   "execution_count": 42,
   "metadata": {
    "id": "dNbYpPir2EIq"
   },
   "outputs": [
    {
     "name": "stdout",
     "output_type": "stream",
     "text": [
      "Selected features after selection:\n",
      "\tMPHQ8A1\n",
      "\tMSLEEPA1\n",
      "\tMPARENTINGSTRESSA1\n",
      "\tHHCHAOSA1\n"
     ]
    }
   ],
   "source": [
    "# features are everything but the binned or regular child outcome columns\n",
    "features = linreg_df.drop(columns = [\"CHILD_OUTCOME\"], axis = 1) \n",
    "\n",
    "# target for the logistic regression and decision tree models are the binned child outcomes\n",
    "target = linreg_df[\"CHILD_OUTCOME\"]\n",
    "\n",
    "# set train/test split \n",
    "X_train, X_test, y_train, y_test = train_test_split(features, target, random_state=3000)\n",
    "\n",
    "# Feature selection\n",
    "linreg_features_after = feature_selection(clf=False)"
   ]
  },
  {
   "cell_type": "code",
   "execution_count": 43,
   "metadata": {
    "id": "meKzrETv7jE1"
   },
   "outputs": [
    {
     "name": "stdout",
     "output_type": "stream",
     "text": [
      "Linear Regression: \n",
      "\tmean r2=0.16 standard deviation=0.12\n",
      "\n"
     ]
    }
   ],
   "source": [
    "# Linear regression performance with cross-validation and selected features\n",
    "post_featselect_k_fold_cv(linreg_estimator, linreg_df, linreg_features_after, clf=False)"
   ]
  },
  {
   "cell_type": "code",
   "execution_count": 44,
   "metadata": {
    "id": "mOhg7bz78nXO"
   },
   "outputs": [],
   "source": [
    "# Hyperparameters for Linear Regression\n",
    "param_grid = {'fit_intercept' : [True, False], 'positive' : [True, False], 'n_jobs' : [1,3,5,7,9]}"
   ]
  },
  {
   "cell_type": "code",
   "execution_count": 45,
   "metadata": {
    "id": "4CR5uaoC8nfV"
   },
   "outputs": [
    {
     "name": "stdout",
     "output_type": "stream",
     "text": [
      "Best parameters:  {'fit_intercept': True, 'n_jobs': 1, 'positive': False}\n",
      "Test set score:  0.1991281586967183\n",
      "Training set score:  0.17689413073535432\n",
      "Mean squared error: 0.08\n",
      "Coefficient of determination (R^2): 0.20\n"
     ]
    }
   ],
   "source": [
    "linreg_post_featselect_grid_search = post_featselect_grid_search(linreg_estimator, 'Linear Regression', linreg_df, linreg_features_after, param_grid, clf=False)"
   ]
  },
  {
   "cell_type": "code",
   "execution_count": 46,
   "metadata": {
    "id": "24o0G4cI8nh9"
   },
   "outputs": [
    {
     "name": "stdout",
     "output_type": "stream",
     "text": [
      "Best parameters:  {'fit_intercept': True, 'n_jobs': 1, 'positive': False}\n",
      "For all chosen features:\n",
      "Test set score:  0.19971287600230758\n",
      "Training set score:  0.18271416385351924\n",
      "Mean squared error: 0.08\n",
      "Coefficient of determination (R^2): 0.20\n"
     ]
    }
   ],
   "source": [
    "linreg_pre_featselect_grid_search = pre_featselect_grid_search(linreg_estimator, 'Linear Regression', linreg_df, param_grid, clf=False)"
   ]
  },
  {
   "cell_type": "markdown",
   "metadata": {
    "id": "nf3r_CiTOo-L"
   },
   "source": [
    "## Summarized Results"
   ]
  },
  {
   "cell_type": "code",
   "execution_count": 47,
   "metadata": {
    "id": "VlK7Noj1OFhq",
    "scrolled": false
   },
   "outputs": [
    {
     "data": {
      "text/plain": [
       "Text(0.5, 0, 'Model')"
      ]
     },
     "execution_count": 47,
     "metadata": {},
     "output_type": "execute_result"
    },
    {
     "data": {
      "image/png": "[encoded data removed]",
      "text/plain": [
       "<Figure size 640x480 with 1 Axes>"
      ]
     },
     "metadata": {},
     "output_type": "display_data"
    }
   ],
   "source": [
    "# names of the different models\n",
    "names = ['Logistic \\n Regr \\n Post- \\n Feature \\n Grid \\n Search', \n",
    "         'Logistic \\n Regr \\n Pre- \\n Feature \\n Grid \\n Search', \n",
    "         'Decision \\n Tree \\n Post- \\n Feature \\n Grid \\n Search',\n",
    "         'Decision \\n Tree \\n Pre- \\n Feature \\n Grid \\n Search', \n",
    "        'Linear \\n Regr \\n Post- \\n Feature \\n Grid \\n Search', \n",
    "        'Linear \\n Regr \\n Pre- \\n Feature \\n Grid \\n Search']\n",
    "\n",
    "# accuracies of the models\n",
    "accuracies = [log_reg_post_featselect_grid_search, log_reg_pre_featselect_grid_search, \n",
    "              dtree_post_featselect_grid_search[1], dtree_pre_featselect_grid_search[1], \n",
    "              linreg_post_featselect_grid_search, linreg_pre_featselect_grid_search]\n",
    "\n",
    "# intialize a dictionary\n",
    "accuracy_dict = {}\n",
    "# add these names and accuracies into a dictionary using zip function\n",
    "accuracy_dict = dict(zip(names, accuracies))\n",
    "accuracy_dict\n",
    "\n",
    "# using matplotlib, graph the accuracy dictionary for the models using a bar chart\n",
    "# color code by logistic regr, decision tree, and linear regr\n",
    "names, counts = zip(*accuracy_dict.items())\n",
    "plt.bar(names, counts, color = ['blue', 'blue', 'green', 'green', 'orange', 'orange'])\n",
    "\n",
    "# add a title and label the x and y axis \n",
    "plt.title('Metrics for all Models')\n",
    "plt.ylabel('Accuracy')\n",
    "plt.xlabel('Model')"
   ]
  },
  {
   "cell_type": "code",
   "execution_count": null,
   "metadata": {
    "id": "_m7gjXaLO3xs"
   },
   "outputs": [],
   "source": []
  }
 ],
 "metadata": {
  "colab": {
   "provenance": []
  },
  "kernelspec": {
   "display_name": "Python 3 (ipykernel)",
   "language": "python",
   "name": "python3"
  },
  "language_info": {
   "codemirror_mode": {
    "name": "ipython",
    "version": 3
   },
   "file_extension": ".py",
   "mimetype": "text/x-python",
   "name": "python",
   "nbconvert_exporter": "python",
   "pygments_lexer": "ipython3",
   "version": "3.8.16"
  }
 },
 "nbformat": 4,
 "nbformat_minor": 1
}
